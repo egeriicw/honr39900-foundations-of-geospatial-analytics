{
 "cells": [
  {
   "cell_type": "markdown",
   "id": "secure-movie",
   "metadata": {},
   "source": [
    "# HONR 39900 Fall 2021: Foundations of Geospatial Analytics\n",
    "## Week 1 Class Notebook\n",
    "## Reviewing Python and SQL\n",
    "\n",
    "### Justin A. Gould (gould29@purdue.edu)"
   ]
  },
  {
   "cell_type": "markdown",
   "id": "attempted-tattoo",
   "metadata": {},
   "source": [
    "# Required Packages"
   ]
  },
  {
   "cell_type": "code",
   "execution_count": 49,
   "id": "bored-tuning",
   "metadata": {},
   "outputs": [],
   "source": [
    "import pandas as pd\n",
    "from pandasql import *\n",
    "import sqlite3\n",
    "from IPython.display import display\n",
    "\n",
    "#Set up pandasql\n",
    "pysqldf = lambda q: sqldf(q, globals())\n",
    "\n",
    "#Load Sample Data -- DO NOT CHANGE\n",
    "conn = sqlite3.connect(\"week_1.db\")\n",
    "\n",
    "jobs = pd.read_sql_query(\"SELECT * FROM jobs\", conn)\n",
    "employees = pd.read_sql_query(\"SELECT * FROM employees\", conn)"
   ]
  },
  {
   "cell_type": "markdown",
   "id": "decent-planet",
   "metadata": {},
   "source": [
    "# General Familiarity with Python\n",
    "- https://developers.google.com/edu/python"
   ]
  },
  {
   "cell_type": "code",
   "execution_count": 19,
   "id": "stainless-variable",
   "metadata": {},
   "outputs": [
    {
     "data": {
      "text/plain": [
       "6"
      ]
     },
     "execution_count": 19,
     "metadata": {},
     "output_type": "execute_result"
    }
   ],
   "source": [
    "#Set a variable in the notebook\n",
    "a = 6 #Run via \"SHIFT + ENTER\"\n",
    "a #Entering an expression prints its value"
   ]
  },
  {
   "cell_type": "code",
   "execution_count": 3,
   "id": "technical-wholesale",
   "metadata": {},
   "outputs": [
    {
     "data": {
      "text/plain": [
       "8"
      ]
     },
     "execution_count": 3,
     "metadata": {},
     "output_type": "execute_result"
    }
   ],
   "source": [
    "a + 2"
   ]
  },
  {
   "cell_type": "code",
   "execution_count": 20,
   "id": "macro-logistics",
   "metadata": {},
   "outputs": [
    {
     "data": {
      "text/plain": [
       "'hello'"
      ]
     },
     "execution_count": 20,
     "metadata": {},
     "output_type": "execute_result"
    }
   ],
   "source": [
    "a = \"hello\" #Let's work with strings. Wrap it in either \"\" or ''\n",
    "a"
   ]
  },
  {
   "cell_type": "code",
   "execution_count": 9,
   "id": "owned-invention",
   "metadata": {},
   "outputs": [
    {
     "data": {
      "text/plain": [
       "5"
      ]
     },
     "execution_count": 9,
     "metadata": {},
     "output_type": "execute_result"
    }
   ],
   "source": [
    "len(a) #Determine the length of a"
   ]
  },
  {
   "cell_type": "code",
   "execution_count": 10,
   "id": "stuffed-liverpool",
   "metadata": {},
   "outputs": [
    {
     "ename": "TypeError",
     "evalue": "can only concatenate str (not \"int\") to str",
     "output_type": "error",
     "traceback": [
      "\u001b[0;31m---------------------------------------------------------------------------\u001b[0m",
      "\u001b[0;31mTypeError\u001b[0m                                 Traceback (most recent call last)",
      "\u001b[0;32m<ipython-input-10-1d3ea7a77b54>\u001b[0m in \u001b[0;36m<module>\u001b[0;34m\u001b[0m\n\u001b[0;32m----> 1\u001b[0;31m \u001b[0ma\u001b[0m \u001b[0;34m+\u001b[0m \u001b[0mlen\u001b[0m\u001b[0;34m(\u001b[0m\u001b[0ma\u001b[0m\u001b[0;34m)\u001b[0m \u001b[0;31m#Try something that will fail\u001b[0m\u001b[0;34m\u001b[0m\u001b[0;34m\u001b[0m\u001b[0m\n\u001b[0m",
      "\u001b[0;31mTypeError\u001b[0m: can only concatenate str (not \"int\") to str"
     ]
    }
   ],
   "source": [
    "a + len(a) #Try something that will fail"
   ]
  },
  {
   "cell_type": "code",
   "execution_count": 11,
   "id": "european-malta",
   "metadata": {},
   "outputs": [
    {
     "data": {
      "text/plain": [
       "'hello5'"
      ]
     },
     "execution_count": 11,
     "metadata": {},
     "output_type": "execute_result"
    }
   ],
   "source": [
    "a + str(len(a)) #Let's try this... turn the length of a into a string\n",
    "                #\"Adding\" strings will concat them"
   ]
  },
  {
   "cell_type": "code",
   "execution_count": 12,
   "id": "descending-adapter",
   "metadata": {},
   "outputs": [
    {
     "ename": "NameError",
     "evalue": "name 'hello' is not defined",
     "output_type": "error",
     "traceback": [
      "\u001b[0;31m---------------------------------------------------------------------------\u001b[0m",
      "\u001b[0;31mNameError\u001b[0m                                 Traceback (most recent call last)",
      "\u001b[0;32m<ipython-input-12-2c38c8db06bd>\u001b[0m in \u001b[0;36m<module>\u001b[0;34m\u001b[0m\n\u001b[0;32m----> 1\u001b[0;31m \u001b[0mhello\u001b[0m \u001b[0;31m#This will fail, as hello is not expression\u001b[0m\u001b[0;34m\u001b[0m\u001b[0;34m\u001b[0m\u001b[0m\n\u001b[0m",
      "\u001b[0;31mNameError\u001b[0m: name 'hello' is not defined"
     ]
    }
   ],
   "source": [
    "hello #This will fail, as hello is not expression"
   ]
  },
  {
   "cell_type": "code",
   "execution_count": 13,
   "id": "transparent-symbol",
   "metadata": {},
   "outputs": [
    {
     "data": {
      "text/plain": [
       "'hello'"
      ]
     },
     "execution_count": 13,
     "metadata": {},
     "output_type": "execute_result"
    }
   ],
   "source": [
    "a #But, the value of a is \"hello\""
   ]
  },
  {
   "cell_type": "code",
   "execution_count": 21,
   "id": "published-permit",
   "metadata": {},
   "outputs": [
    {
     "data": {
      "text/plain": [
       "'hello'"
      ]
     },
     "execution_count": 21,
     "metadata": {},
     "output_type": "execute_result"
    }
   ],
   "source": [
    "\"hello\" #This works, too, as it will just print the string value"
   ]
  },
  {
   "cell_type": "markdown",
   "id": "superior-volume",
   "metadata": {},
   "source": [
    "# Strings"
   ]
  },
  {
   "cell_type": "code",
   "execution_count": 15,
   "id": "coated-claim",
   "metadata": {},
   "outputs": [
    {
     "name": "stdout",
     "output_type": "stream",
     "text": [
      "i\n",
      "2\n",
      "hi there\n"
     ]
    }
   ],
   "source": [
    "s = 'hi'\n",
    "print(s[1])          ## i\n",
    "print(len(s))        ## 2\n",
    "print(s + ' there')  ## hello there"
   ]
  },
  {
   "cell_type": "markdown",
   "id": "indirect-beverage",
   "metadata": {},
   "source": [
    "Unlike Java, the '+' does not automatically convert numbers or other types to string form. The str() function converts values to a string form so they can be combined with other strings."
   ]
  },
  {
   "cell_type": "code",
   "execution_count": 16,
   "id": "relevant-dependence",
   "metadata": {},
   "outputs": [
    {
     "ename": "TypeError",
     "evalue": "can only concatenate str (not \"float\") to str",
     "output_type": "error",
     "traceback": [
      "\u001b[0;31m---------------------------------------------------------------------------\u001b[0m",
      "\u001b[0;31mTypeError\u001b[0m                                 Traceback (most recent call last)",
      "\u001b[0;32m<ipython-input-16-ff4bda67b5d2>\u001b[0m in \u001b[0;36m<module>\u001b[0;34m\u001b[0m\n\u001b[1;32m      1\u001b[0m \u001b[0mpi\u001b[0m \u001b[0;34m=\u001b[0m \u001b[0;36m3.14\u001b[0m\u001b[0;34m\u001b[0m\u001b[0;34m\u001b[0m\u001b[0m\n\u001b[0;32m----> 2\u001b[0;31m \u001b[0mtext\u001b[0m \u001b[0;34m=\u001b[0m \u001b[0;34m'The value of pi is '\u001b[0m \u001b[0;34m+\u001b[0m \u001b[0mpi\u001b[0m      \u001b[0;31m## NO, does not work\u001b[0m\u001b[0;34m\u001b[0m\u001b[0;34m\u001b[0m\u001b[0m\n\u001b[0m",
      "\u001b[0;31mTypeError\u001b[0m: can only concatenate str (not \"float\") to str"
     ]
    }
   ],
   "source": [
    "pi = 3.14\n",
    "text = 'The value of pi is ' + pi      ## NO, does not work"
   ]
  },
  {
   "cell_type": "code",
   "execution_count": 18,
   "id": "iraqi-rates",
   "metadata": {},
   "outputs": [
    {
     "data": {
      "text/plain": [
       "'The value of pi is 3.14'"
      ]
     },
     "execution_count": 18,
     "metadata": {},
     "output_type": "execute_result"
    }
   ],
   "source": [
    "text = 'The value of pi is '  + str(pi)  ## yes\n",
    "text"
   ]
  },
  {
   "cell_type": "markdown",
   "id": "ultimate-scotland",
   "metadata": {},
   "source": [
    "Common string methods:\n",
    "\n",
    " - `s.lower()`, `s.upper()` -- returns the lowercase or uppercase version of the string\n",
    " - `s.strip()` -- returns a string with whitespace removed from the start and end\n",
    " - `s.isalpha()`/`s.isdigit()`/`s.isspace()`... -- tests if all the string chars are in the various character classes\n",
    " - `s.startswith('other')`, `s.endswith('other')` -- tests if the string starts or ends with the given other string\n",
    " - `s.find('other')` -- searches for the given other string (not a regular expression) within s, and returns the first index where it begins or -1 if not found\n",
    " - `s.replace('old', 'new')` -- returns a string where all occurrences of 'old' have been replaced by 'new'\n",
    " - `s.split('delim')` -- returns a list of substrings separated by the given delimiter. The delimiter is not a regular expression, it's just text. 'aaa,bbb,ccc'.split(',') -> `['aaa', 'bbb', 'ccc']`. As a convenient special case s.split() (with no arguments) splits on all whitespace chars.\n",
    " - `s.join(list)` -- opposite of split(), joins the elements in the given list together using the string as the delimiter. e.g. `'---'.join(['aaa', 'bbb', 'ccc'])` -> aaa---bbb---ccc"
   ]
  },
  {
   "cell_type": "code",
   "execution_count": 22,
   "id": "needed-exercise",
   "metadata": {},
   "outputs": [],
   "source": [
    "text = \"the lazy brown dog jumped over the fox\"\n",
    "\n",
    "#Try them out here!\n"
   ]
  },
  {
   "cell_type": "code",
   "execution_count": null,
   "id": "acting-asset",
   "metadata": {},
   "outputs": [],
   "source": []
  },
  {
   "cell_type": "markdown",
   "id": "vertical-uncertainty",
   "metadata": {},
   "source": [
    "The \"slice\" syntax is a handy way to refer to sub-parts of sequences -- typically strings and lists. The slice `s[start:end]` is the elements beginning at start and extending up to but not including end. Suppose we have s = \"Hello\":\n",
    "\n",
    "- `s[1:4]` is 'ell' -- chars starting at index 1 and extending up to but not including index 4\n",
    "- `s[1:]` is 'ello' -- omitting either index defaults to the start or end of the string\n",
    "- `s[:]` is 'Hello' -- omitting both always gives us a copy of the whole thing (this is the pythonic way to copy a sequence like a string or list)\n",
    "- `s[1:100]` is 'ello' -- an index that is too big is truncated down to the string length \n",
    "\n",
    "\n",
    "- `s[-1]` is 'o' -- last char (1st from the end)\n",
    "- `s[-4]` is 'e' -- 4th from the end\n",
    "- `s[:-3]` is 'He' -- going up to but not including the last 3 chars.\n",
    "- `s[-3:]` is 'llo' -- starting with the 3rd char from the end and extending to the end of the string. "
   ]
  },
  {
   "cell_type": "code",
   "execution_count": 23,
   "id": "certain-rubber",
   "metadata": {},
   "outputs": [],
   "source": [
    "text = \"welcome to class\"\n",
    "\n",
    "#Try them out here!\n"
   ]
  },
  {
   "cell_type": "code",
   "execution_count": null,
   "id": "raised-annotation",
   "metadata": {},
   "outputs": [],
   "source": []
  },
  {
   "cell_type": "markdown",
   "id": "guilty-subsection",
   "metadata": {},
   "source": [
    "# Lists\n",
    "\n",
    "Python has a great built-in list type named \"list\". List literals are written within square brackets [ ]. Lists work similarly to strings -- use the len() function and square brackets [ ] to access data, with the first element at index 0. (See http://docs.python.org/tut/node7.html)"
   ]
  },
  {
   "cell_type": "code",
   "execution_count": 24,
   "id": "disciplinary-intersection",
   "metadata": {},
   "outputs": [
    {
     "name": "stdout",
     "output_type": "stream",
     "text": [
      "red\n",
      "green\n",
      "3\n"
     ]
    }
   ],
   "source": [
    "colors = ['red', 'blue', 'green']\n",
    "print(colors[0])    ## red\n",
    "print(colors[2])    ## green\n",
    "print(len(colors))  ## 3"
   ]
  },
  {
   "cell_type": "code",
   "execution_count": 25,
   "id": "exterior-depth",
   "metadata": {},
   "outputs": [
    {
     "name": "stdout",
     "output_type": "stream",
     "text": [
      "30\n"
     ]
    }
   ],
   "source": [
    "squares = [1, 4, 9, 16]\n",
    "sum = 0\n",
    "\n",
    "for num in squares:\n",
    "    sum += num\n",
    "    \n",
    "print(sum)  ## 30"
   ]
  },
  {
   "cell_type": "code",
   "execution_count": 26,
   "id": "later-barrier",
   "metadata": {},
   "outputs": [
    {
     "name": "stdout",
     "output_type": "stream",
     "text": [
      "0\n",
      "1\n",
      "2\n",
      "3\n",
      "4\n",
      "5\n",
      "6\n",
      "7\n",
      "8\n",
      "9\n"
     ]
    }
   ],
   "source": [
    "#Print the numbers from 0 through 9\n",
    "for i in range(10):\n",
    "    print(i)"
   ]
  },
  {
   "cell_type": "code",
   "execution_count": 27,
   "id": "assisted-iraqi",
   "metadata": {},
   "outputs": [
    {
     "data": {
      "text/plain": [
       "[0, 1, 2, 3, 4, 5, 6, 7, 8, 9]"
      ]
     },
     "execution_count": 27,
     "metadata": {},
     "output_type": "execute_result"
    }
   ],
   "source": [
    "#Add to a list\n",
    "empty = []\n",
    "for i in range(10):\n",
    "    empty.append(i)#Add the numbers from 0 through 9 to list\n",
    "\n",
    "empty"
   ]
  },
  {
   "cell_type": "markdown",
   "id": "efficient-isolation",
   "metadata": {},
   "source": [
    "Common list methods:\n",
    "\n",
    "\n",
    " - `list.append(elem)` -- adds a single element to the end of the list. Common error: does not return the new list, just modifies the original.\n",
    " - `list.insert(index, elem)` -- inserts the element at the given index, shifting elements to the right.\n",
    " - `list.extend(list2)` adds the elements in list2 to the end of the list. Using `+` or `+=` on a list is similar to using `extend()`.\n",
    " - `list.index(elem)` -- searches for the given element from the start of the list and returns its index. Throws a ValueError if the element does not appear (use \"in\" to check without a `ValueError`).\n",
    " - `list.remove(elem)` -- searches for the first instance of the given element and removes it (throws `ValueError` if not present)\n",
    " - `list.sort()` -- sorts the list in place (does not return it).\n",
    " - `list.reverse()` -- reverses the list in place (does not return it)\n",
    " - `list.pop(index)` -- removes and returns the element at the given index. Returns the rightmost element if index is omitted (roughly the opposite of `append()`)."
   ]
  },
  {
   "cell_type": "code",
   "execution_count": 29,
   "id": "intense-bibliography",
   "metadata": {},
   "outputs": [
    {
     "name": "stdout",
     "output_type": "stream",
     "text": [
      "Original list: ['larry', 'curly', 'moe'] \n",
      "\n",
      "Appending 'shemp': ['larry', 'curly', 'moe', 'shemp'] \n",
      "\n",
      "Inserting 'xxx' at 0: ['xxx', 'larry', 'curly', 'moe', 'shemp'] \n",
      "\n",
      "Extending 'yyy' and 'zzz': ['xxx', 'larry', 'curly', 'moe', 'shemp', 'yyy', 'zzz'] \n",
      "\n",
      "Index of 'curly': 2 \n",
      "\n",
      "Remember, Python index starts at 0, not 1! \n",
      "\n",
      "Removing 'curly': ['xxx', 'larry', 'moe', 'shemp', 'yyy', 'zzz'] \n",
      "\n",
      "Pop index 1 (second item, 'larry') ['xxx', 'moe', 'shemp', 'yyy', 'zzz']\n"
     ]
    }
   ],
   "source": [
    "list = ['larry', 'curly', 'moe']\n",
    "print(\"Original list:\", list, \"\\n\")\n",
    "\n",
    "list.append('shemp')         ## append elem at end\n",
    "print(\"Appending 'shemp':\", list, \"\\n\")\n",
    "\n",
    "list.insert(0, 'xxx')        ## insert elem at index 0\n",
    "print(\"Inserting 'xxx' at 0:\", list, \"\\n\")\n",
    "\n",
    "list.extend(['yyy', 'zzz'])  ## add list of elems at end\n",
    "print(\"Extending 'yyy' and 'zzz':\", list, \"\\n\")\n",
    "\n",
    "print(\"Index of 'curly':\", list.index('curly'), \"\\n\")    ## 2\n",
    "print(\"Remember, Python index starts at 0, not 1!\", \"\\n\")\n",
    "\n",
    "list.remove('curly')         ## search and remove that element\n",
    "print(\"Removing 'curly':\", list, \"\\n\")\n",
    "\n",
    "list.pop(1)                  ## removes and returns 'larry'\n",
    "print(\"Pop index 1 (second item, 'larry')\", list)  ## ['xxx', 'moe', 'shemp', 'yyy', 'zzz']"
   ]
  },
  {
   "cell_type": "code",
   "execution_count": 30,
   "id": "plastic-postage",
   "metadata": {},
   "outputs": [],
   "source": [
    "list = ['larry', 'curly', 'moe']\n",
    "\n",
    "#Try some of the methods yourself!\n"
   ]
  },
  {
   "cell_type": "code",
   "execution_count": null,
   "id": "metric-operations",
   "metadata": {},
   "outputs": [],
   "source": []
  },
  {
   "cell_type": "markdown",
   "id": "cardiovascular-there",
   "metadata": {},
   "source": [
    "# Using Functions\n",
    "\n",
    "Functions help you structure your code and generalize it for efficient use.\n",
    "\n",
    "For example, to multiply a number by 2, you would have to run this every time:\n",
    "\n",
    "```\n",
    "a = 4\n",
    "b = a * 2 #8\n",
    "```\n",
    "\n",
    "Instead, have a function you can call, which is modular for any numeric input:\n",
    "```\n",
    "def double(a):\n",
    "    return a *2\n",
    "\n",
    "b = double(4) #8\n",
    "c = double(5) #10\n",
    "```"
   ]
  },
  {
   "cell_type": "code",
   "execution_count": 32,
   "id": "verbal-replacement",
   "metadata": {},
   "outputs": [],
   "source": [
    "#Practice!\n",
    "#Create a function to sort a list\n",
    "\n",
    "\n",
    "#Create a function to square a number\n"
   ]
  },
  {
   "cell_type": "code",
   "execution_count": null,
   "id": "pharmaceutical-victory",
   "metadata": {},
   "outputs": [],
   "source": []
  },
  {
   "cell_type": "markdown",
   "id": "identical-egypt",
   "metadata": {},
   "source": [
    "# Basic SQL Syntax and Functionality\n",
    "- https://www.w3schools.com/sql/\n",
    "\n",
    "\n",
    "We will use SQL on Pandas DataFrames, via the `pandasql` package."
   ]
  },
  {
   "cell_type": "markdown",
   "id": "widespread-surfing",
   "metadata": {},
   "source": [
    "# SQL Query Structure\n",
    "\n",
    "```\n",
    "SELECT\n",
    "    COLUMN_1,\n",
    "    COLUMN_2,\n",
    "    ...\n",
    "FROM\n",
    "    TABLE\n",
    "WHERE\n",
    "    CONDITION\n",
    "```\n",
    "\n",
    "- `SELECT`: The `SELECT` statement is used to select data from a database. You can specify column names (as shown above), or, to select all columns, you can use `*`...`SELECT * FROM TABLE`\n",
    "\n",
    "- `FROM`: The `FROM` statement is used to determine against what table to execute thequery. For example, if we have a table called `customers`, to get all data, we would use: `SELECT * FROM customers`.\n",
    "\n",
    "- `WHERE`: The `WHERE` clause is used to filter records. The `WHERE` clause is used to extract only those records that fulfill a specified condition.\n",
    "  - The `CONDITION` (`WHERE customer_id = 1`, which would return records where `customer_id` is equal to `1`) is broken into three parts:\n",
    "    - `COLUMN` (`customer_id`): Column to which condition is applied.\n",
    "    - `OPERATOR` (`=`)\n",
    "    - `VALUE` (`1`)\n",
    "  - You can have multiple `WHERE` clauses in a single query, separated by `AND` or `OR`.\n",
    "    - The `AND` operator displays a record if all the conditions separated by `AND` are TRUE.\n",
    "    - The `OR` operator displays a record if any of the conditions separated by `OR` is TRUE.\n",
    "\n",
    "## Example:\n",
    "\n",
    "```\n",
    "SELECT\n",
    "    *\n",
    "FROM\n",
    "    Customers\n",
    "WHERE\n",
    "    Country='Germany'\n",
    "    AND City='Berlin'\n",
    "```\n",
    "\n",
    "The above query will return all records (`*`) from the table `Customers` if a row's value for the column `Country` is equal to `Germany` and the value for the column `City` is equal to `Berlin`."
   ]
  },
  {
   "cell_type": "markdown",
   "id": "homeless-malaysia",
   "metadata": {},
   "source": [
    "# Exampe `pandasql` Usage"
   ]
  },
  {
   "cell_type": "code",
   "execution_count": 47,
   "id": "outdoor-privilege",
   "metadata": {},
   "outputs": [
    {
     "data": {
      "text/html": [
       "<div>\n",
       "<style scoped>\n",
       "    .dataframe tbody tr th:only-of-type {\n",
       "        vertical-align: middle;\n",
       "    }\n",
       "\n",
       "    .dataframe tbody tr th {\n",
       "        vertical-align: top;\n",
       "    }\n",
       "\n",
       "    .dataframe thead th {\n",
       "        text-align: right;\n",
       "    }\n",
       "</style>\n",
       "<table border=\"1\" class=\"dataframe\">\n",
       "  <thead>\n",
       "    <tr style=\"text-align: right;\">\n",
       "      <th></th>\n",
       "      <th>employee_id</th>\n",
       "      <th>first_name</th>\n",
       "      <th>last_name</th>\n",
       "      <th>email</th>\n",
       "      <th>phone_number</th>\n",
       "      <th>hire_date</th>\n",
       "      <th>job_id</th>\n",
       "      <th>salary</th>\n",
       "      <th>manager_id</th>\n",
       "      <th>department_id</th>\n",
       "    </tr>\n",
       "  </thead>\n",
       "  <tbody>\n",
       "    <tr>\n",
       "      <th>0</th>\n",
       "      <td>100</td>\n",
       "      <td>Steven</td>\n",
       "      <td>King</td>\n",
       "      <td>steven.king@sqltutorial.org</td>\n",
       "      <td>515.123.4567</td>\n",
       "      <td>1987-06-17</td>\n",
       "      <td>4</td>\n",
       "      <td>24000.0</td>\n",
       "      <td>NaN</td>\n",
       "      <td>9</td>\n",
       "    </tr>\n",
       "    <tr>\n",
       "      <th>1</th>\n",
       "      <td>101</td>\n",
       "      <td>Neena</td>\n",
       "      <td>Kochhar</td>\n",
       "      <td>neena.kochhar@sqltutorial.org</td>\n",
       "      <td>515.123.4568</td>\n",
       "      <td>1989-09-21</td>\n",
       "      <td>5</td>\n",
       "      <td>17000.0</td>\n",
       "      <td>100.0</td>\n",
       "      <td>9</td>\n",
       "    </tr>\n",
       "    <tr>\n",
       "      <th>2</th>\n",
       "      <td>102</td>\n",
       "      <td>Lex</td>\n",
       "      <td>De Haan</td>\n",
       "      <td>lex.de haan@sqltutorial.org</td>\n",
       "      <td>515.123.4569</td>\n",
       "      <td>1993-01-13</td>\n",
       "      <td>5</td>\n",
       "      <td>17000.0</td>\n",
       "      <td>100.0</td>\n",
       "      <td>9</td>\n",
       "    </tr>\n",
       "    <tr>\n",
       "      <th>3</th>\n",
       "      <td>103</td>\n",
       "      <td>Alexander</td>\n",
       "      <td>Hunold</td>\n",
       "      <td>alexander.hunold@sqltutorial.org</td>\n",
       "      <td>590.423.4567</td>\n",
       "      <td>1990-01-03</td>\n",
       "      <td>9</td>\n",
       "      <td>9000.0</td>\n",
       "      <td>102.0</td>\n",
       "      <td>6</td>\n",
       "    </tr>\n",
       "    <tr>\n",
       "      <th>4</th>\n",
       "      <td>104</td>\n",
       "      <td>Bruce</td>\n",
       "      <td>Ernst</td>\n",
       "      <td>bruce.ernst@sqltutorial.org</td>\n",
       "      <td>590.423.4568</td>\n",
       "      <td>1991-05-21</td>\n",
       "      <td>9</td>\n",
       "      <td>6000.0</td>\n",
       "      <td>103.0</td>\n",
       "      <td>6</td>\n",
       "    </tr>\n",
       "    <tr>\n",
       "      <th>5</th>\n",
       "      <td>105</td>\n",
       "      <td>David</td>\n",
       "      <td>Austin</td>\n",
       "      <td>david.austin@sqltutorial.org</td>\n",
       "      <td>590.423.4569</td>\n",
       "      <td>1997-06-25</td>\n",
       "      <td>9</td>\n",
       "      <td>4800.0</td>\n",
       "      <td>103.0</td>\n",
       "      <td>6</td>\n",
       "    </tr>\n",
       "    <tr>\n",
       "      <th>6</th>\n",
       "      <td>106</td>\n",
       "      <td>Valli</td>\n",
       "      <td>Pataballa</td>\n",
       "      <td>valli.pataballa@sqltutorial.org</td>\n",
       "      <td>590.423.4560</td>\n",
       "      <td>1998-02-05</td>\n",
       "      <td>9</td>\n",
       "      <td>4800.0</td>\n",
       "      <td>103.0</td>\n",
       "      <td>6</td>\n",
       "    </tr>\n",
       "    <tr>\n",
       "      <th>7</th>\n",
       "      <td>107</td>\n",
       "      <td>Diana</td>\n",
       "      <td>Lorentz</td>\n",
       "      <td>diana.lorentz@sqltutorial.org</td>\n",
       "      <td>590.423.5567</td>\n",
       "      <td>1999-02-07</td>\n",
       "      <td>9</td>\n",
       "      <td>4200.0</td>\n",
       "      <td>103.0</td>\n",
       "      <td>6</td>\n",
       "    </tr>\n",
       "    <tr>\n",
       "      <th>8</th>\n",
       "      <td>108</td>\n",
       "      <td>Nancy</td>\n",
       "      <td>Greenberg</td>\n",
       "      <td>nancy.greenberg@sqltutorial.org</td>\n",
       "      <td>515.124.4569</td>\n",
       "      <td>1994-08-17</td>\n",
       "      <td>7</td>\n",
       "      <td>12000.0</td>\n",
       "      <td>101.0</td>\n",
       "      <td>10</td>\n",
       "    </tr>\n",
       "    <tr>\n",
       "      <th>9</th>\n",
       "      <td>109</td>\n",
       "      <td>Daniel</td>\n",
       "      <td>Faviet</td>\n",
       "      <td>daniel.faviet@sqltutorial.org</td>\n",
       "      <td>515.124.4169</td>\n",
       "      <td>1994-08-16</td>\n",
       "      <td>6</td>\n",
       "      <td>9000.0</td>\n",
       "      <td>108.0</td>\n",
       "      <td>10</td>\n",
       "    </tr>\n",
       "  </tbody>\n",
       "</table>\n",
       "</div>"
      ],
      "text/plain": [
       "   employee_id first_name  last_name                             email  \\\n",
       "0          100     Steven       King       steven.king@sqltutorial.org   \n",
       "1          101      Neena    Kochhar     neena.kochhar@sqltutorial.org   \n",
       "2          102        Lex    De Haan       lex.de haan@sqltutorial.org   \n",
       "3          103  Alexander     Hunold  alexander.hunold@sqltutorial.org   \n",
       "4          104      Bruce      Ernst       bruce.ernst@sqltutorial.org   \n",
       "5          105      David     Austin      david.austin@sqltutorial.org   \n",
       "6          106      Valli  Pataballa   valli.pataballa@sqltutorial.org   \n",
       "7          107      Diana    Lorentz     diana.lorentz@sqltutorial.org   \n",
       "8          108      Nancy  Greenberg   nancy.greenberg@sqltutorial.org   \n",
       "9          109     Daniel     Faviet     daniel.faviet@sqltutorial.org   \n",
       "\n",
       "   phone_number   hire_date  job_id   salary  manager_id  department_id  \n",
       "0  515.123.4567  1987-06-17       4  24000.0         NaN              9  \n",
       "1  515.123.4568  1989-09-21       5  17000.0       100.0              9  \n",
       "2  515.123.4569  1993-01-13       5  17000.0       100.0              9  \n",
       "3  590.423.4567  1990-01-03       9   9000.0       102.0              6  \n",
       "4  590.423.4568  1991-05-21       9   6000.0       103.0              6  \n",
       "5  590.423.4569  1997-06-25       9   4800.0       103.0              6  \n",
       "6  590.423.4560  1998-02-05       9   4800.0       103.0              6  \n",
       "7  590.423.5567  1999-02-07       9   4200.0       103.0              6  \n",
       "8  515.124.4569  1994-08-17       7  12000.0       101.0             10  \n",
       "9  515.124.4169  1994-08-16       6   9000.0       108.0             10  "
      ]
     },
     "execution_count": 47,
     "metadata": {},
     "output_type": "execute_result"
    }
   ],
   "source": [
    "query = \"SELECT * FROM employees\"\n",
    "pysqldf(query)[:10] #Showing first 10 rows"
   ]
  },
  {
   "cell_type": "code",
   "execution_count": 48,
   "id": "religious-theme",
   "metadata": {},
   "outputs": [
    {
     "data": {
      "text/html": [
       "<div>\n",
       "<style scoped>\n",
       "    .dataframe tbody tr th:only-of-type {\n",
       "        vertical-align: middle;\n",
       "    }\n",
       "\n",
       "    .dataframe tbody tr th {\n",
       "        vertical-align: top;\n",
       "    }\n",
       "\n",
       "    .dataframe thead th {\n",
       "        text-align: right;\n",
       "    }\n",
       "</style>\n",
       "<table border=\"1\" class=\"dataframe\">\n",
       "  <thead>\n",
       "    <tr style=\"text-align: right;\">\n",
       "      <th></th>\n",
       "      <th>job_id</th>\n",
       "      <th>job_title</th>\n",
       "      <th>min_salary</th>\n",
       "      <th>max_salary</th>\n",
       "    </tr>\n",
       "  </thead>\n",
       "  <tbody>\n",
       "    <tr>\n",
       "      <th>0</th>\n",
       "      <td>1</td>\n",
       "      <td>Public Accountant</td>\n",
       "      <td>4200.0</td>\n",
       "      <td>9000.0</td>\n",
       "    </tr>\n",
       "    <tr>\n",
       "      <th>1</th>\n",
       "      <td>2</td>\n",
       "      <td>Accounting Manager</td>\n",
       "      <td>8200.0</td>\n",
       "      <td>16000.0</td>\n",
       "    </tr>\n",
       "    <tr>\n",
       "      <th>2</th>\n",
       "      <td>3</td>\n",
       "      <td>Administration Assistant</td>\n",
       "      <td>3000.0</td>\n",
       "      <td>6000.0</td>\n",
       "    </tr>\n",
       "    <tr>\n",
       "      <th>3</th>\n",
       "      <td>4</td>\n",
       "      <td>President</td>\n",
       "      <td>20000.0</td>\n",
       "      <td>40000.0</td>\n",
       "    </tr>\n",
       "    <tr>\n",
       "      <th>4</th>\n",
       "      <td>5</td>\n",
       "      <td>Administration Vice President</td>\n",
       "      <td>15000.0</td>\n",
       "      <td>30000.0</td>\n",
       "    </tr>\n",
       "    <tr>\n",
       "      <th>5</th>\n",
       "      <td>6</td>\n",
       "      <td>Accountant</td>\n",
       "      <td>4200.0</td>\n",
       "      <td>9000.0</td>\n",
       "    </tr>\n",
       "    <tr>\n",
       "      <th>6</th>\n",
       "      <td>7</td>\n",
       "      <td>Finance Manager</td>\n",
       "      <td>8200.0</td>\n",
       "      <td>16000.0</td>\n",
       "    </tr>\n",
       "    <tr>\n",
       "      <th>7</th>\n",
       "      <td>8</td>\n",
       "      <td>Human Resources Representative</td>\n",
       "      <td>4000.0</td>\n",
       "      <td>9000.0</td>\n",
       "    </tr>\n",
       "    <tr>\n",
       "      <th>8</th>\n",
       "      <td>9</td>\n",
       "      <td>Programmer</td>\n",
       "      <td>4000.0</td>\n",
       "      <td>10000.0</td>\n",
       "    </tr>\n",
       "    <tr>\n",
       "      <th>9</th>\n",
       "      <td>10</td>\n",
       "      <td>Marketing Manager</td>\n",
       "      <td>9000.0</td>\n",
       "      <td>15000.0</td>\n",
       "    </tr>\n",
       "  </tbody>\n",
       "</table>\n",
       "</div>"
      ],
      "text/plain": [
       "   job_id                       job_title  min_salary  max_salary\n",
       "0       1               Public Accountant      4200.0      9000.0\n",
       "1       2              Accounting Manager      8200.0     16000.0\n",
       "2       3        Administration Assistant      3000.0      6000.0\n",
       "3       4                       President     20000.0     40000.0\n",
       "4       5   Administration Vice President     15000.0     30000.0\n",
       "5       6                      Accountant      4200.0      9000.0\n",
       "6       7                 Finance Manager      8200.0     16000.0\n",
       "7       8  Human Resources Representative      4000.0      9000.0\n",
       "8       9                      Programmer      4000.0     10000.0\n",
       "9      10               Marketing Manager      9000.0     15000.0"
      ]
     },
     "execution_count": 48,
     "metadata": {},
     "output_type": "execute_result"
    }
   ],
   "source": [
    "query = \"SELECT * FROM jobs\"\n",
    "pysqldf(query)[:10] #Showing first 10 rows"
   ]
  },
  {
   "cell_type": "markdown",
   "id": "going-amateur",
   "metadata": {},
   "source": [
    "# SELECT Clause"
   ]
  },
  {
   "cell_type": "code",
   "execution_count": null,
   "id": "subtle-sculpture",
   "metadata": {},
   "outputs": [],
   "source": [
    "#Try to select any subset of columns from either `jobs` or `employees`\n",
    "\n"
   ]
  },
  {
   "cell_type": "code",
   "execution_count": null,
   "id": "essential-burton",
   "metadata": {},
   "outputs": [],
   "source": []
  },
  {
   "cell_type": "markdown",
   "id": "ahead-cooler",
   "metadata": {},
   "source": [
    "# Aggregators"
   ]
  },
  {
   "cell_type": "markdown",
   "id": "effective-acceptance",
   "metadata": {},
   "source": [
    "We can also use aggregator functions to make computations in our query. For example:\n",
    "- `MIN()`: The MIN() function returns the smallest value of the selected column.\n",
    "- `MAX()`: The MAX() function returns the largest value of the selected column.\n",
    "- `COUNT()`: The COUNT() function returns the number of rows that matches a specified criterion.\n",
    "- `SUM()`: The SUM() function returns the total sum of a numeric column.\n",
    "- `AVG()`: The AVG() function returns the average value of a numeric column.\n",
    "\n",
    "How to use aggregators:\n",
    "```\n",
    "SELECT MIN(column_name)\n",
    "FROM table_name\n",
    "WHERE condition;\n",
    "```\n",
    "\n",
    "```\n",
    "SELECT AVG(column_name)\n",
    "FROM table_name\n",
    "WHERE condition;\n",
    "```\n",
    "\n",
    "```\n",
    "SELECT COUNT(column_name)\n",
    "FROM table_name\n",
    "WHERE condition;\n",
    "```"
   ]
  },
  {
   "cell_type": "code",
   "execution_count": 60,
   "id": "cognitive-butterfly",
   "metadata": {},
   "outputs": [
    {
     "data": {
      "text/html": [
       "<div>\n",
       "<style scoped>\n",
       "    .dataframe tbody tr th:only-of-type {\n",
       "        vertical-align: middle;\n",
       "    }\n",
       "\n",
       "    .dataframe tbody tr th {\n",
       "        vertical-align: top;\n",
       "    }\n",
       "\n",
       "    .dataframe thead th {\n",
       "        text-align: right;\n",
       "    }\n",
       "</style>\n",
       "<table border=\"1\" class=\"dataframe\">\n",
       "  <thead>\n",
       "    <tr style=\"text-align: right;\">\n",
       "      <th></th>\n",
       "      <th>MIN(min_salary)</th>\n",
       "    </tr>\n",
       "  </thead>\n",
       "  <tbody>\n",
       "    <tr>\n",
       "      <th>0</th>\n",
       "      <td>2000.0</td>\n",
       "    </tr>\n",
       "  </tbody>\n",
       "</table>\n",
       "</div>"
      ],
      "text/plain": [
       "   MIN(min_salary)\n",
       "0           2000.0"
      ]
     },
     "metadata": {},
     "output_type": "display_data"
    },
    {
     "name": "stdout",
     "output_type": "stream",
     "text": [
      "\n",
      "\n"
     ]
    },
    {
     "data": {
      "text/html": [
       "<div>\n",
       "<style scoped>\n",
       "    .dataframe tbody tr th:only-of-type {\n",
       "        vertical-align: middle;\n",
       "    }\n",
       "\n",
       "    .dataframe tbody tr th {\n",
       "        vertical-align: top;\n",
       "    }\n",
       "\n",
       "    .dataframe thead th {\n",
       "        text-align: right;\n",
       "    }\n",
       "</style>\n",
       "<table border=\"1\" class=\"dataframe\">\n",
       "  <thead>\n",
       "    <tr style=\"text-align: right;\">\n",
       "      <th></th>\n",
       "      <th>MAX(max_salary)</th>\n",
       "    </tr>\n",
       "  </thead>\n",
       "  <tbody>\n",
       "    <tr>\n",
       "      <th>0</th>\n",
       "      <td>20000.0</td>\n",
       "    </tr>\n",
       "  </tbody>\n",
       "</table>\n",
       "</div>"
      ],
      "text/plain": [
       "   MAX(max_salary)\n",
       "0          20000.0"
      ]
     },
     "metadata": {},
     "output_type": "display_data"
    }
   ],
   "source": [
    "#For example...\n",
    "query = \"SELECT MIN(min_salary) FROM jobs\" #Shows the smallest minimum salary\n",
    "display(pysqldf(query))\n",
    "print(\"\\n\")\n",
    "\n",
    "query = \"SELECT MAX(max_salary) FROM jobs WHERE job_title LIKE '%Manager'\" #Shows the largest maximum salary for anyone with a \"manager\" position\n",
    "display(pysqldf(query))"
   ]
  },
  {
   "cell_type": "code",
   "execution_count": null,
   "id": "hollow-connecticut",
   "metadata": {},
   "outputs": [],
   "source": [
    "#Now, you try to use aggregators to compute data!\n",
    "#What is the average minimum salary?\n",
    "\n",
    "#How many positions have a minimum salary greater than 4000?"
   ]
  },
  {
   "cell_type": "code",
   "execution_count": null,
   "id": "sudden-evolution",
   "metadata": {},
   "outputs": [],
   "source": []
  },
  {
   "cell_type": "markdown",
   "id": "veterinary-subscriber",
   "metadata": {},
   "source": [
    "# WHERE Clause"
   ]
  },
  {
   "cell_type": "code",
   "execution_count": 68,
   "id": "front-power",
   "metadata": {},
   "outputs": [
    {
     "data": {
      "text/html": [
       "<div>\n",
       "<style scoped>\n",
       "    .dataframe tbody tr th:only-of-type {\n",
       "        vertical-align: middle;\n",
       "    }\n",
       "\n",
       "    .dataframe tbody tr th {\n",
       "        vertical-align: top;\n",
       "    }\n",
       "\n",
       "    .dataframe thead th {\n",
       "        text-align: right;\n",
       "    }\n",
       "</style>\n",
       "<table border=\"1\" class=\"dataframe\">\n",
       "  <thead>\n",
       "    <tr style=\"text-align: right;\">\n",
       "      <th></th>\n",
       "      <th>job_id</th>\n",
       "      <th>job_title</th>\n",
       "      <th>max_salary</th>\n",
       "    </tr>\n",
       "  </thead>\n",
       "  <tbody>\n",
       "    <tr>\n",
       "      <th>0</th>\n",
       "      <td>2</td>\n",
       "      <td>Accounting Manager</td>\n",
       "      <td>16000.0</td>\n",
       "    </tr>\n",
       "    <tr>\n",
       "      <th>1</th>\n",
       "      <td>4</td>\n",
       "      <td>President</td>\n",
       "      <td>40000.0</td>\n",
       "    </tr>\n",
       "    <tr>\n",
       "      <th>2</th>\n",
       "      <td>5</td>\n",
       "      <td>Administration Vice President</td>\n",
       "      <td>30000.0</td>\n",
       "    </tr>\n",
       "    <tr>\n",
       "      <th>3</th>\n",
       "      <td>7</td>\n",
       "      <td>Finance Manager</td>\n",
       "      <td>16000.0</td>\n",
       "    </tr>\n",
       "    <tr>\n",
       "      <th>4</th>\n",
       "      <td>10</td>\n",
       "      <td>Marketing Manager</td>\n",
       "      <td>15000.0</td>\n",
       "    </tr>\n",
       "    <tr>\n",
       "      <th>5</th>\n",
       "      <td>12</td>\n",
       "      <td>Public Relations Representative</td>\n",
       "      <td>10500.0</td>\n",
       "    </tr>\n",
       "    <tr>\n",
       "      <th>6</th>\n",
       "      <td>14</td>\n",
       "      <td>Purchasing Manager</td>\n",
       "      <td>15000.0</td>\n",
       "    </tr>\n",
       "    <tr>\n",
       "      <th>7</th>\n",
       "      <td>15</td>\n",
       "      <td>Sales Manager</td>\n",
       "      <td>20000.0</td>\n",
       "    </tr>\n",
       "    <tr>\n",
       "      <th>8</th>\n",
       "      <td>16</td>\n",
       "      <td>Sales Representative</td>\n",
       "      <td>12000.0</td>\n",
       "    </tr>\n",
       "  </tbody>\n",
       "</table>\n",
       "</div>"
      ],
      "text/plain": [
       "   job_id                        job_title  max_salary\n",
       "0       2               Accounting Manager     16000.0\n",
       "1       4                        President     40000.0\n",
       "2       5    Administration Vice President     30000.0\n",
       "3       7                  Finance Manager     16000.0\n",
       "4      10                Marketing Manager     15000.0\n",
       "5      12  Public Relations Representative     10500.0\n",
       "6      14               Purchasing Manager     15000.0\n",
       "7      15                    Sales Manager     20000.0\n",
       "8      16             Sales Representative     12000.0"
      ]
     },
     "metadata": {},
     "output_type": "display_data"
    }
   ],
   "source": [
    "#For example...\n",
    "display(pysqldf(\"SELECT job_id, job_title, max_salary FROM jobs WHERE max_salary > 10000\"))\n",
    "\n",
    "#Now, you try to use WHERE clauses to filter data!\n",
    "#Show the positions with a maximum salary greater than 12000\n",
    "\n",
    "\n",
    "#Show the positions with a minimum salary less than 7000\n"
   ]
  },
  {
   "cell_type": "code",
   "execution_count": null,
   "id": "atmospheric-dollar",
   "metadata": {},
   "outputs": [],
   "source": []
  },
  {
   "cell_type": "markdown",
   "id": "exterior-lending",
   "metadata": {},
   "source": [
    "# JOINs\n",
    "\n",
    "A `JOIN` clause is used to combine rows from two or more tables, based on a related column between them.\n",
    "\n",
    "## Different Types of SQL JOINs\n",
    "Here are the different types of the JOINs in SQL:\n",
    "- (INNER) JOIN: Returns records that have matching values in both tables\n",
    "- LEFT (OUTER) JOIN: Returns all records from the left table, and the matched records from the right table\n",
    "- RIGHT (OUTER) JOIN: Returns all records from the right table, and the matched records from the left table\n",
    "- FULL (OUTER) JOIN: Returns all records when there is a match in either left or right table\n",
    "\n",
    "![JOINs](http://www.datapine.com/blog/wp-content/uploads/2015/08/summary-sql-joins.png)\n"
   ]
  },
  {
   "cell_type": "code",
   "execution_count": 55,
   "id": "through-public",
   "metadata": {},
   "outputs": [
    {
     "data": {
      "text/html": [
       "<div>\n",
       "<style scoped>\n",
       "    .dataframe tbody tr th:only-of-type {\n",
       "        vertical-align: middle;\n",
       "    }\n",
       "\n",
       "    .dataframe tbody tr th {\n",
       "        vertical-align: top;\n",
       "    }\n",
       "\n",
       "    .dataframe thead th {\n",
       "        text-align: right;\n",
       "    }\n",
       "</style>\n",
       "<table border=\"1\" class=\"dataframe\">\n",
       "  <thead>\n",
       "    <tr style=\"text-align: right;\">\n",
       "      <th></th>\n",
       "      <th>employee_id</th>\n",
       "      <th>first_name</th>\n",
       "      <th>last_name</th>\n",
       "      <th>email</th>\n",
       "      <th>phone_number</th>\n",
       "      <th>hire_date</th>\n",
       "      <th>job_id</th>\n",
       "      <th>salary</th>\n",
       "      <th>manager_id</th>\n",
       "      <th>department_id</th>\n",
       "      <th>job_title</th>\n",
       "    </tr>\n",
       "  </thead>\n",
       "  <tbody>\n",
       "    <tr>\n",
       "      <th>0</th>\n",
       "      <td>100</td>\n",
       "      <td>Steven</td>\n",
       "      <td>King</td>\n",
       "      <td>steven.king@sqltutorial.org</td>\n",
       "      <td>515.123.4567</td>\n",
       "      <td>1987-06-17</td>\n",
       "      <td>4</td>\n",
       "      <td>24000.0</td>\n",
       "      <td>NaN</td>\n",
       "      <td>9</td>\n",
       "      <td>President</td>\n",
       "    </tr>\n",
       "    <tr>\n",
       "      <th>1</th>\n",
       "      <td>101</td>\n",
       "      <td>Neena</td>\n",
       "      <td>Kochhar</td>\n",
       "      <td>neena.kochhar@sqltutorial.org</td>\n",
       "      <td>515.123.4568</td>\n",
       "      <td>1989-09-21</td>\n",
       "      <td>5</td>\n",
       "      <td>17000.0</td>\n",
       "      <td>100.0</td>\n",
       "      <td>9</td>\n",
       "      <td>Administration Vice President</td>\n",
       "    </tr>\n",
       "    <tr>\n",
       "      <th>2</th>\n",
       "      <td>102</td>\n",
       "      <td>Lex</td>\n",
       "      <td>De Haan</td>\n",
       "      <td>lex.de haan@sqltutorial.org</td>\n",
       "      <td>515.123.4569</td>\n",
       "      <td>1993-01-13</td>\n",
       "      <td>5</td>\n",
       "      <td>17000.0</td>\n",
       "      <td>100.0</td>\n",
       "      <td>9</td>\n",
       "      <td>Administration Vice President</td>\n",
       "    </tr>\n",
       "    <tr>\n",
       "      <th>3</th>\n",
       "      <td>103</td>\n",
       "      <td>Alexander</td>\n",
       "      <td>Hunold</td>\n",
       "      <td>alexander.hunold@sqltutorial.org</td>\n",
       "      <td>590.423.4567</td>\n",
       "      <td>1990-01-03</td>\n",
       "      <td>9</td>\n",
       "      <td>9000.0</td>\n",
       "      <td>102.0</td>\n",
       "      <td>6</td>\n",
       "      <td>Programmer</td>\n",
       "    </tr>\n",
       "    <tr>\n",
       "      <th>4</th>\n",
       "      <td>104</td>\n",
       "      <td>Bruce</td>\n",
       "      <td>Ernst</td>\n",
       "      <td>bruce.ernst@sqltutorial.org</td>\n",
       "      <td>590.423.4568</td>\n",
       "      <td>1991-05-21</td>\n",
       "      <td>9</td>\n",
       "      <td>6000.0</td>\n",
       "      <td>103.0</td>\n",
       "      <td>6</td>\n",
       "      <td>Programmer</td>\n",
       "    </tr>\n",
       "    <tr>\n",
       "      <th>5</th>\n",
       "      <td>105</td>\n",
       "      <td>David</td>\n",
       "      <td>Austin</td>\n",
       "      <td>david.austin@sqltutorial.org</td>\n",
       "      <td>590.423.4569</td>\n",
       "      <td>1997-06-25</td>\n",
       "      <td>9</td>\n",
       "      <td>4800.0</td>\n",
       "      <td>103.0</td>\n",
       "      <td>6</td>\n",
       "      <td>Programmer</td>\n",
       "    </tr>\n",
       "    <tr>\n",
       "      <th>6</th>\n",
       "      <td>106</td>\n",
       "      <td>Valli</td>\n",
       "      <td>Pataballa</td>\n",
       "      <td>valli.pataballa@sqltutorial.org</td>\n",
       "      <td>590.423.4560</td>\n",
       "      <td>1998-02-05</td>\n",
       "      <td>9</td>\n",
       "      <td>4800.0</td>\n",
       "      <td>103.0</td>\n",
       "      <td>6</td>\n",
       "      <td>Programmer</td>\n",
       "    </tr>\n",
       "    <tr>\n",
       "      <th>7</th>\n",
       "      <td>107</td>\n",
       "      <td>Diana</td>\n",
       "      <td>Lorentz</td>\n",
       "      <td>diana.lorentz@sqltutorial.org</td>\n",
       "      <td>590.423.5567</td>\n",
       "      <td>1999-02-07</td>\n",
       "      <td>9</td>\n",
       "      <td>4200.0</td>\n",
       "      <td>103.0</td>\n",
       "      <td>6</td>\n",
       "      <td>Programmer</td>\n",
       "    </tr>\n",
       "    <tr>\n",
       "      <th>8</th>\n",
       "      <td>108</td>\n",
       "      <td>Nancy</td>\n",
       "      <td>Greenberg</td>\n",
       "      <td>nancy.greenberg@sqltutorial.org</td>\n",
       "      <td>515.124.4569</td>\n",
       "      <td>1994-08-17</td>\n",
       "      <td>7</td>\n",
       "      <td>12000.0</td>\n",
       "      <td>101.0</td>\n",
       "      <td>10</td>\n",
       "      <td>Finance Manager</td>\n",
       "    </tr>\n",
       "    <tr>\n",
       "      <th>9</th>\n",
       "      <td>109</td>\n",
       "      <td>Daniel</td>\n",
       "      <td>Faviet</td>\n",
       "      <td>daniel.faviet@sqltutorial.org</td>\n",
       "      <td>515.124.4169</td>\n",
       "      <td>1994-08-16</td>\n",
       "      <td>6</td>\n",
       "      <td>9000.0</td>\n",
       "      <td>108.0</td>\n",
       "      <td>10</td>\n",
       "      <td>Accountant</td>\n",
       "    </tr>\n",
       "  </tbody>\n",
       "</table>\n",
       "</div>"
      ],
      "text/plain": [
       "   employee_id first_name  last_name                             email  \\\n",
       "0          100     Steven       King       steven.king@sqltutorial.org   \n",
       "1          101      Neena    Kochhar     neena.kochhar@sqltutorial.org   \n",
       "2          102        Lex    De Haan       lex.de haan@sqltutorial.org   \n",
       "3          103  Alexander     Hunold  alexander.hunold@sqltutorial.org   \n",
       "4          104      Bruce      Ernst       bruce.ernst@sqltutorial.org   \n",
       "5          105      David     Austin      david.austin@sqltutorial.org   \n",
       "6          106      Valli  Pataballa   valli.pataballa@sqltutorial.org   \n",
       "7          107      Diana    Lorentz     diana.lorentz@sqltutorial.org   \n",
       "8          108      Nancy  Greenberg   nancy.greenberg@sqltutorial.org   \n",
       "9          109     Daniel     Faviet     daniel.faviet@sqltutorial.org   \n",
       "\n",
       "   phone_number   hire_date  job_id   salary  manager_id  department_id  \\\n",
       "0  515.123.4567  1987-06-17       4  24000.0         NaN              9   \n",
       "1  515.123.4568  1989-09-21       5  17000.0       100.0              9   \n",
       "2  515.123.4569  1993-01-13       5  17000.0       100.0              9   \n",
       "3  590.423.4567  1990-01-03       9   9000.0       102.0              6   \n",
       "4  590.423.4568  1991-05-21       9   6000.0       103.0              6   \n",
       "5  590.423.4569  1997-06-25       9   4800.0       103.0              6   \n",
       "6  590.423.4560  1998-02-05       9   4800.0       103.0              6   \n",
       "7  590.423.5567  1999-02-07       9   4200.0       103.0              6   \n",
       "8  515.124.4569  1994-08-17       7  12000.0       101.0             10   \n",
       "9  515.124.4169  1994-08-16       6   9000.0       108.0             10   \n",
       "\n",
       "                       job_title  \n",
       "0                      President  \n",
       "1  Administration Vice President  \n",
       "2  Administration Vice President  \n",
       "3                     Programmer  \n",
       "4                     Programmer  \n",
       "5                     Programmer  \n",
       "6                     Programmer  \n",
       "7                     Programmer  \n",
       "8                Finance Manager  \n",
       "9                     Accountant  "
      ]
     },
     "execution_count": 55,
     "metadata": {},
     "output_type": "execute_result"
    }
   ],
   "source": [
    "#Example\n",
    "query = \"\"\"\n",
    "SELECT\n",
    "    employees.*,\n",
    "    jobs.job_title\n",
    "FROM\n",
    "    employees\n",
    "JOIN\n",
    "    jobs on jobs.job_id = employees.job_id\n",
    "\"\"\"\n",
    "\n",
    "pysqldf(query)[:10] #First 10 rows\n",
    "\n",
    "#Notice the final column! I was able to reference the `job_title` column, via `job_id` in both the `employees` and `jobs` tables."
   ]
  },
  {
   "cell_type": "markdown",
   "id": "optical-printer",
   "metadata": {},
   "source": [
    "# Subqueries\n",
    "\n",
    "A subquery is, essentially, a query within a query. Subqueries let you specify the results of one query as an argument in another query. When you're writing an SQL query, you may want to specify a parameter based on the result of another query.\n",
    "\n",
    "For example, if I want to know which employees have a salary greater than or equal to the company's average salary, I need to compute the average salary for all employees and use that as a parameter in my query:\n",
    "\n",
    "```\n",
    "SELECT\n",
    "    *\n",
    "FROM\n",
    "    employees\n",
    "WHERE\n",
    "    salary >= (SELECT AVG(salary) FROM employees)\n",
    "```"
   ]
  },
  {
   "cell_type": "code",
   "execution_count": 67,
   "id": "experimental-samoa",
   "metadata": {},
   "outputs": [
    {
     "name": "stdout",
     "output_type": "stream",
     "text": [
      "The company's average salary is: 8060.0 \n",
      "\n"
     ]
    },
    {
     "data": {
      "text/html": [
       "<div>\n",
       "<style scoped>\n",
       "    .dataframe tbody tr th:only-of-type {\n",
       "        vertical-align: middle;\n",
       "    }\n",
       "\n",
       "    .dataframe tbody tr th {\n",
       "        vertical-align: top;\n",
       "    }\n",
       "\n",
       "    .dataframe thead th {\n",
       "        text-align: right;\n",
       "    }\n",
       "</style>\n",
       "<table border=\"1\" class=\"dataframe\">\n",
       "  <thead>\n",
       "    <tr style=\"text-align: right;\">\n",
       "      <th></th>\n",
       "      <th>employee_id</th>\n",
       "      <th>first_name</th>\n",
       "      <th>last_name</th>\n",
       "      <th>email</th>\n",
       "      <th>phone_number</th>\n",
       "      <th>hire_date</th>\n",
       "      <th>job_id</th>\n",
       "      <th>salary</th>\n",
       "      <th>manager_id</th>\n",
       "      <th>department_id</th>\n",
       "    </tr>\n",
       "  </thead>\n",
       "  <tbody>\n",
       "    <tr>\n",
       "      <th>0</th>\n",
       "      <td>100</td>\n",
       "      <td>Steven</td>\n",
       "      <td>King</td>\n",
       "      <td>steven.king@sqltutorial.org</td>\n",
       "      <td>515.123.4567</td>\n",
       "      <td>1987-06-17</td>\n",
       "      <td>4</td>\n",
       "      <td>24000.0</td>\n",
       "      <td>NaN</td>\n",
       "      <td>9</td>\n",
       "    </tr>\n",
       "    <tr>\n",
       "      <th>1</th>\n",
       "      <td>101</td>\n",
       "      <td>Neena</td>\n",
       "      <td>Kochhar</td>\n",
       "      <td>neena.kochhar@sqltutorial.org</td>\n",
       "      <td>515.123.4568</td>\n",
       "      <td>1989-09-21</td>\n",
       "      <td>5</td>\n",
       "      <td>17000.0</td>\n",
       "      <td>100.0</td>\n",
       "      <td>9</td>\n",
       "    </tr>\n",
       "    <tr>\n",
       "      <th>2</th>\n",
       "      <td>102</td>\n",
       "      <td>Lex</td>\n",
       "      <td>De Haan</td>\n",
       "      <td>lex.de haan@sqltutorial.org</td>\n",
       "      <td>515.123.4569</td>\n",
       "      <td>1993-01-13</td>\n",
       "      <td>5</td>\n",
       "      <td>17000.0</td>\n",
       "      <td>100.0</td>\n",
       "      <td>9</td>\n",
       "    </tr>\n",
       "    <tr>\n",
       "      <th>3</th>\n",
       "      <td>103</td>\n",
       "      <td>Alexander</td>\n",
       "      <td>Hunold</td>\n",
       "      <td>alexander.hunold@sqltutorial.org</td>\n",
       "      <td>590.423.4567</td>\n",
       "      <td>1990-01-03</td>\n",
       "      <td>9</td>\n",
       "      <td>9000.0</td>\n",
       "      <td>102.0</td>\n",
       "      <td>6</td>\n",
       "    </tr>\n",
       "    <tr>\n",
       "      <th>4</th>\n",
       "      <td>108</td>\n",
       "      <td>Nancy</td>\n",
       "      <td>Greenberg</td>\n",
       "      <td>nancy.greenberg@sqltutorial.org</td>\n",
       "      <td>515.124.4569</td>\n",
       "      <td>1994-08-17</td>\n",
       "      <td>7</td>\n",
       "      <td>12000.0</td>\n",
       "      <td>101.0</td>\n",
       "      <td>10</td>\n",
       "    </tr>\n",
       "    <tr>\n",
       "      <th>5</th>\n",
       "      <td>109</td>\n",
       "      <td>Daniel</td>\n",
       "      <td>Faviet</td>\n",
       "      <td>daniel.faviet@sqltutorial.org</td>\n",
       "      <td>515.124.4169</td>\n",
       "      <td>1994-08-16</td>\n",
       "      <td>6</td>\n",
       "      <td>9000.0</td>\n",
       "      <td>108.0</td>\n",
       "      <td>10</td>\n",
       "    </tr>\n",
       "    <tr>\n",
       "      <th>6</th>\n",
       "      <td>110</td>\n",
       "      <td>John</td>\n",
       "      <td>Chen</td>\n",
       "      <td>john.chen@sqltutorial.org</td>\n",
       "      <td>515.124.4269</td>\n",
       "      <td>1997-09-28</td>\n",
       "      <td>6</td>\n",
       "      <td>8200.0</td>\n",
       "      <td>108.0</td>\n",
       "      <td>10</td>\n",
       "    </tr>\n",
       "    <tr>\n",
       "      <th>7</th>\n",
       "      <td>114</td>\n",
       "      <td>Den</td>\n",
       "      <td>Raphaely</td>\n",
       "      <td>den.raphaely@sqltutorial.org</td>\n",
       "      <td>515.127.4561</td>\n",
       "      <td>1994-12-07</td>\n",
       "      <td>14</td>\n",
       "      <td>11000.0</td>\n",
       "      <td>100.0</td>\n",
       "      <td>3</td>\n",
       "    </tr>\n",
       "    <tr>\n",
       "      <th>8</th>\n",
       "      <td>121</td>\n",
       "      <td>Adam</td>\n",
       "      <td>Fripp</td>\n",
       "      <td>adam.fripp@sqltutorial.org</td>\n",
       "      <td>650.123.2234</td>\n",
       "      <td>1997-04-10</td>\n",
       "      <td>19</td>\n",
       "      <td>8200.0</td>\n",
       "      <td>100.0</td>\n",
       "      <td>5</td>\n",
       "    </tr>\n",
       "    <tr>\n",
       "      <th>9</th>\n",
       "      <td>145</td>\n",
       "      <td>John</td>\n",
       "      <td>Russell</td>\n",
       "      <td>john.russell@sqltutorial.org</td>\n",
       "      <td>None</td>\n",
       "      <td>1996-10-01</td>\n",
       "      <td>15</td>\n",
       "      <td>14000.0</td>\n",
       "      <td>100.0</td>\n",
       "      <td>8</td>\n",
       "    </tr>\n",
       "    <tr>\n",
       "      <th>10</th>\n",
       "      <td>146</td>\n",
       "      <td>Karen</td>\n",
       "      <td>Partners</td>\n",
       "      <td>karen.partners@sqltutorial.org</td>\n",
       "      <td>None</td>\n",
       "      <td>1997-01-05</td>\n",
       "      <td>15</td>\n",
       "      <td>13500.0</td>\n",
       "      <td>100.0</td>\n",
       "      <td>8</td>\n",
       "    </tr>\n",
       "    <tr>\n",
       "      <th>11</th>\n",
       "      <td>176</td>\n",
       "      <td>Jonathon</td>\n",
       "      <td>Taylor</td>\n",
       "      <td>jonathon.taylor@sqltutorial.org</td>\n",
       "      <td>None</td>\n",
       "      <td>1998-03-24</td>\n",
       "      <td>16</td>\n",
       "      <td>8600.0</td>\n",
       "      <td>100.0</td>\n",
       "      <td>8</td>\n",
       "    </tr>\n",
       "    <tr>\n",
       "      <th>12</th>\n",
       "      <td>177</td>\n",
       "      <td>Jack</td>\n",
       "      <td>Livingston</td>\n",
       "      <td>jack.livingston@sqltutorial.org</td>\n",
       "      <td>None</td>\n",
       "      <td>1998-04-23</td>\n",
       "      <td>16</td>\n",
       "      <td>8400.0</td>\n",
       "      <td>100.0</td>\n",
       "      <td>8</td>\n",
       "    </tr>\n",
       "    <tr>\n",
       "      <th>13</th>\n",
       "      <td>201</td>\n",
       "      <td>Michael</td>\n",
       "      <td>Hartstein</td>\n",
       "      <td>michael.hartstein@sqltutorial.org</td>\n",
       "      <td>515.123.5555</td>\n",
       "      <td>1996-02-17</td>\n",
       "      <td>10</td>\n",
       "      <td>13000.0</td>\n",
       "      <td>100.0</td>\n",
       "      <td>2</td>\n",
       "    </tr>\n",
       "    <tr>\n",
       "      <th>14</th>\n",
       "      <td>204</td>\n",
       "      <td>Hermann</td>\n",
       "      <td>Baer</td>\n",
       "      <td>hermann.baer@sqltutorial.org</td>\n",
       "      <td>515.123.8888</td>\n",
       "      <td>1994-06-07</td>\n",
       "      <td>12</td>\n",
       "      <td>10000.0</td>\n",
       "      <td>101.0</td>\n",
       "      <td>7</td>\n",
       "    </tr>\n",
       "    <tr>\n",
       "      <th>15</th>\n",
       "      <td>205</td>\n",
       "      <td>Shelley</td>\n",
       "      <td>Higgins</td>\n",
       "      <td>shelley.higgins@sqltutorial.org</td>\n",
       "      <td>515.123.8080</td>\n",
       "      <td>1994-06-07</td>\n",
       "      <td>2</td>\n",
       "      <td>12000.0</td>\n",
       "      <td>101.0</td>\n",
       "      <td>11</td>\n",
       "    </tr>\n",
       "    <tr>\n",
       "      <th>16</th>\n",
       "      <td>206</td>\n",
       "      <td>William</td>\n",
       "      <td>Gietz</td>\n",
       "      <td>william.gietz@sqltutorial.org</td>\n",
       "      <td>515.123.8181</td>\n",
       "      <td>1994-06-07</td>\n",
       "      <td>1</td>\n",
       "      <td>8300.0</td>\n",
       "      <td>205.0</td>\n",
       "      <td>11</td>\n",
       "    </tr>\n",
       "  </tbody>\n",
       "</table>\n",
       "</div>"
      ],
      "text/plain": [
       "    employee_id first_name   last_name                              email  \\\n",
       "0           100     Steven        King        steven.king@sqltutorial.org   \n",
       "1           101      Neena     Kochhar      neena.kochhar@sqltutorial.org   \n",
       "2           102        Lex     De Haan        lex.de haan@sqltutorial.org   \n",
       "3           103  Alexander      Hunold   alexander.hunold@sqltutorial.org   \n",
       "4           108      Nancy   Greenberg    nancy.greenberg@sqltutorial.org   \n",
       "5           109     Daniel      Faviet      daniel.faviet@sqltutorial.org   \n",
       "6           110       John        Chen          john.chen@sqltutorial.org   \n",
       "7           114        Den    Raphaely       den.raphaely@sqltutorial.org   \n",
       "8           121       Adam       Fripp         adam.fripp@sqltutorial.org   \n",
       "9           145       John     Russell       john.russell@sqltutorial.org   \n",
       "10          146      Karen    Partners     karen.partners@sqltutorial.org   \n",
       "11          176   Jonathon      Taylor    jonathon.taylor@sqltutorial.org   \n",
       "12          177       Jack  Livingston    jack.livingston@sqltutorial.org   \n",
       "13          201    Michael   Hartstein  michael.hartstein@sqltutorial.org   \n",
       "14          204    Hermann        Baer       hermann.baer@sqltutorial.org   \n",
       "15          205    Shelley     Higgins    shelley.higgins@sqltutorial.org   \n",
       "16          206    William       Gietz      william.gietz@sqltutorial.org   \n",
       "\n",
       "    phone_number   hire_date  job_id   salary  manager_id  department_id  \n",
       "0   515.123.4567  1987-06-17       4  24000.0         NaN              9  \n",
       "1   515.123.4568  1989-09-21       5  17000.0       100.0              9  \n",
       "2   515.123.4569  1993-01-13       5  17000.0       100.0              9  \n",
       "3   590.423.4567  1990-01-03       9   9000.0       102.0              6  \n",
       "4   515.124.4569  1994-08-17       7  12000.0       101.0             10  \n",
       "5   515.124.4169  1994-08-16       6   9000.0       108.0             10  \n",
       "6   515.124.4269  1997-09-28       6   8200.0       108.0             10  \n",
       "7   515.127.4561  1994-12-07      14  11000.0       100.0              3  \n",
       "8   650.123.2234  1997-04-10      19   8200.0       100.0              5  \n",
       "9           None  1996-10-01      15  14000.0       100.0              8  \n",
       "10          None  1997-01-05      15  13500.0       100.0              8  \n",
       "11          None  1998-03-24      16   8600.0       100.0              8  \n",
       "12          None  1998-04-23      16   8400.0       100.0              8  \n",
       "13  515.123.5555  1996-02-17      10  13000.0       100.0              2  \n",
       "14  515.123.8888  1994-06-07      12  10000.0       101.0              7  \n",
       "15  515.123.8080  1994-06-07       2  12000.0       101.0             11  \n",
       "16  515.123.8181  1994-06-07       1   8300.0       205.0             11  "
      ]
     },
     "execution_count": 67,
     "metadata": {},
     "output_type": "execute_result"
    }
   ],
   "source": [
    "#Here's the example from above\n",
    "print(\"The company's average salary is:\", pysqldf(\"SELECT AVG(salary) FROM employees\")[\"AVG(salary)\"][0], \"\\n\")\n",
    "\n",
    "query = \"\"\"\n",
    "SELECT\n",
    "    *\n",
    "FROM\n",
    "    employees\n",
    "WHERE\n",
    "    salary >= (SELECT AVG(salary) FROM employees)\n",
    "\"\"\"\n",
    "pysqldf(query)"
   ]
  },
  {
   "cell_type": "code",
   "execution_count": null,
   "id": "horizontal-seven",
   "metadata": {},
   "outputs": [],
   "source": [
    "#Now, it's your turn. Write a query to determine which employees have a salary higher than the average Programmer salary (HINT: job_id = 9)\n"
   ]
  },
  {
   "cell_type": "code",
   "execution_count": null,
   "id": "available-negative",
   "metadata": {},
   "outputs": [],
   "source": []
  }
 ],
 "metadata": {
  "kernelspec": {
   "display_name": "Python 3",
   "language": "python",
   "name": "python3"
  },
  "language_info": {
   "codemirror_mode": {
    "name": "ipython",
    "version": 3
   },
   "file_extension": ".py",
   "mimetype": "text/x-python",
   "name": "python",
   "nbconvert_exporter": "python",
   "pygments_lexer": "ipython3",
   "version": "3.7.9"
  }
 },
 "nbformat": 4,
 "nbformat_minor": 5
}