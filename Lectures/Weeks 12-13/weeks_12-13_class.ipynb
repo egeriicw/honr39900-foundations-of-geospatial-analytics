{
 "cells": [
  {
   "cell_type": "markdown",
   "id": "frequent-frame",
   "metadata": {},
   "source": [
    "# HONR 39900 Fall 2021: Foundations of Geospatial Analytics\n",
    "## Weeks 12-13 Class Notebook\n",
    "## Route Optimization\n",
    "\n",
    "### Justin A. Gould (gould29@purdue.edu)"
   ]
  },
  {
   "cell_type": "markdown",
   "id": "moving-andrew",
   "metadata": {},
   "source": [
    "# Possible Solutions\n",
    "1. mlrose\n",
    "2. Brute-Force (Dijkstra)\n",
    "3. Google OR Tools"
   ]
  },
  {
   "cell_type": "markdown",
   "id": "current-tulsa",
   "metadata": {},
   "source": [
    "# Required Packages"
   ]
  },
  {
   "cell_type": "code",
   "execution_count": 2,
   "id": "excellent-percentage",
   "metadata": {},
   "outputs": [
    {
     "name": "stdout",
     "output_type": "stream",
     "text": [
      "Collecting mlrose\n",
      "  Downloading mlrose-1.3.0-py3-none-any.whl (27 kB)\n",
      "Requirement already satisfied: numpy in /Users/gould29/opt/anaconda3/envs/honr490/lib/python3.7/site-packages (from mlrose) (1.19.2)\n",
      "Requirement already satisfied: scipy in /Users/gould29/opt/anaconda3/envs/honr490/lib/python3.7/site-packages (from mlrose) (1.6.2)\n",
      "Collecting sklearn\n",
      "  Downloading sklearn-0.0.tar.gz (1.1 kB)\n",
      "Collecting scikit-learn\n",
      "  Downloading scikit_learn-0.24.1-cp37-cp37m-macosx_10_13_x86_64.whl (7.2 MB)\n",
      "\u001b[K     |████████████████████████████████| 7.2 MB 1.3 MB/s eta 0:00:01     |█▉                              | 419 kB 1.4 MB/s eta 0:00:05\n",
      "\u001b[?25hCollecting joblib>=0.11\n",
      "  Using cached joblib-1.0.1-py3-none-any.whl (303 kB)\n",
      "Collecting threadpoolctl>=2.0.0\n",
      "  Downloading threadpoolctl-2.1.0-py3-none-any.whl (12 kB)\n",
      "Building wheels for collected packages: sklearn\n",
      "  Building wheel for sklearn (setup.py) ... \u001b[?25ldone\n",
      "\u001b[?25h  Created wheel for sklearn: filename=sklearn-0.0-py2.py3-none-any.whl size=1316 sha256=077924a32b0b4457091daa2c1e243ac167f866d2f0eafd5badfe457cdd9345bf\n",
      "  Stored in directory: /Users/gould29/Library/Caches/pip/wheels/46/ef/c3/157e41f5ee1372d1be90b09f74f82b10e391eaacca8f22d33e\n",
      "Successfully built sklearn\n",
      "Installing collected packages: threadpoolctl, joblib, scikit-learn, sklearn, mlrose\n",
      "Successfully installed joblib-1.0.1 mlrose-1.3.0 scikit-learn-0.24.1 sklearn-0.0 threadpoolctl-2.1.0\n"
     ]
    }
   ],
   "source": [
    "!pip install mlrose"
   ]
  },
  {
   "cell_type": "code",
   "execution_count": 37,
   "id": "personalized-sample",
   "metadata": {},
   "outputs": [
    {
     "name": "stdout",
     "output_type": "stream",
     "text": [
      "Collecting ortools\n",
      "  Downloading ortools-8.2.8710-cp37-cp37m-macosx_10_9_x86_64.whl (12.0 MB)\n",
      "\u001b[K     |████████████████████████████████| 12.0 MB 1.2 MB/s eta 0:00:01    |██████████████████▍             | 6.9 MB 1.5 MB/s eta 0:00:04\n",
      "\u001b[?25hCollecting absl-py>=0.11\n",
      "  Downloading absl_py-0.12.0-py3-none-any.whl (129 kB)\n",
      "\u001b[K     |████████████████████████████████| 129 kB 1.4 MB/s eta 0:00:01\n",
      "\u001b[?25hRequirement already satisfied: six in /Users/gould29/opt/anaconda3/envs/honr490/lib/python3.7/site-packages (from absl-py>=0.11->ortools) (1.15.0)\n",
      "Collecting protobuf>=3.14.0\n",
      "  Downloading protobuf-3.15.8-cp37-cp37m-macosx_10_9_x86_64.whl (1.0 MB)\n",
      "\u001b[K     |████████████████████████████████| 1.0 MB 1.5 MB/s eta 0:00:01\n",
      "\u001b[?25hInstalling collected packages: protobuf, absl-py, ortools\n",
      "  Attempting uninstall: protobuf\n",
      "    Found existing installation: protobuf 3.0.0b3\n",
      "    Uninstalling protobuf-3.0.0b3:\n",
      "      Successfully uninstalled protobuf-3.0.0b3\n",
      "\u001b[31mERROR: pip's dependency resolver does not currently take into account all the packages that are installed. This behaviour is the source of the following dependency conflicts.\n",
      "osmread 0.2 requires protobuf==3.0.0b3, but you have protobuf 3.15.8 which is incompatible.\u001b[0m\n",
      "Successfully installed absl-py-0.12.0 ortools-8.2.8710 protobuf-3.15.8\n"
     ]
    }
   ],
   "source": [
    "!pip install ortools"
   ]
  },
  {
   "cell_type": "code",
   "execution_count": 106,
   "id": "decreased-venezuela",
   "metadata": {},
   "outputs": [
    {
     "name": "stderr",
     "output_type": "stream",
     "text": [
      "/Users/gould29/opt/anaconda3/envs/honr490/lib/python3.7/site-packages/ipykernel/ipkernel.py:283: DeprecationWarning: `should_run_async` will not call `transform_cell` automatically in the future. Please pass the result to `transformed_cell` argument and any exception that happen during thetransform in `preprocessing_exc_tuple` in IPython 7.17 and above.\n",
      "  and should_run_async(code)\n"
     ]
    }
   ],
   "source": [
    "#mlrose -- see https://stackoverflow.com/a/62354885/9302979\n",
    "import six\n",
    "import sys\n",
    "sys.modules['sklearn.externals.six'] = six\n",
    "import mlrose\n",
    "import numpy as np\n",
    "\n",
    "#Brute Force\n",
    "from collections import defaultdict\n",
    "\n",
    "#OR Tools\n",
    "from ortools.constraint_solver import pywrapcp\n",
    "from ortools.constraint_solver import routing_enums_pb2\n",
    "import math"
   ]
  },
  {
   "cell_type": "markdown",
   "id": "expected-calculation",
   "metadata": {},
   "source": [
    "# 1. `mlrose` Solution\n",
    "https://towardsdatascience.com/solving-travelling-salesperson-problems-with-python-5de7e883d847 \\\n",
    "The steps required to solve this problem are the same as those used to solve any optimization problem in mlrose. Specificially:\n",
    "1. Define a fitness function object.\n",
    "2. Define an optimization problem object.\n",
    "3. Select and run a randomized optimization algorithm.\n",
    "\n",
    "\n",
    "For the TSP in the example, the goal is to find the shortest tour of the eight cities. As a result, the fitness function should calculate the total length of a given tour. This is the fitness definition used in mlrose’s pre-defined `TravellingSales()` class.\n",
    "\n",
    "The `TSPOpt()` optimization problem class assumes, by default, that the `TravellingSales()` class is used to define the fitness function for a TSP. As a result, if the `TravellingSales()` class is to be used to define the fitness function object, then this step can be skipped. However, it is also possible to manually define the fitness function object, if so desired.\n",
    "\n",
    "To initialize a fitness function object for the `TravellingSales()` class, it is necessary to specify either the `(x, y)` coordinates of all the cities or the distances between each pair of cities for which travel is possible. If the former is specified, then it is assumed that travel between each pair of cities is possible and that the distance between the pairs of cities is the Euclidean distance.\n",
    "\n",
    "If we choose to specify the coordinates, then these should be input as an ordered list of pairs (where pair `i` specifies the coordinates of city `i`), as follows:"
   ]
  },
  {
   "cell_type": "code",
   "execution_count": 5,
   "id": "announced-sharing",
   "metadata": {},
   "outputs": [],
   "source": [
    "# Create list of city coordinates\n",
    "coords_list = [(1, 1), (4, 2), (5, 2), (6, 4), (4, 4), (3, 6), (1, 5), (2, 3)]\n",
    "\n",
    "# Initialize fitness function object using coords_list\n",
    "fitness_coords = mlrose.TravellingSales(coords = coords_list)"
   ]
  },
  {
   "cell_type": "markdown",
   "id": "hazardous-resort",
   "metadata": {},
   "source": [
    "Alternatively, if we choose to specify the distances, then these should be input as a list of triples giving the distances, d, between all pairs of cities, u and v, for which travel is possible, with each triple in the form (u, v, d).\n",
    "\n",
    "The order in which the cities is specified does not matter (i.e., the distance between cities 1 and 2 is assumed to be the same as the distance between cities 2 and 1), and so each pair of cities need only be included in the list once.\n",
    "\n",
    "Using the distance approach, the fitness function object can be initialized as follows:"
   ]
  },
  {
   "cell_type": "code",
   "execution_count": 6,
   "id": "embedded-gospel",
   "metadata": {},
   "outputs": [],
   "source": [
    "# Create list of distances between pairs of cities\n",
    "dist_list = [(0, 1, 3.1623), (0, 2, 4.1231), (0, 3, 5.8310), (0, 4, 4.2426), \\\n",
    "             (0, 5, 5.3852), (0, 6, 4.0000), (0, 7, 2.2361), (1, 2, 1.0000), \\\n",
    "             (1, 3, 2.8284), (1, 4, 2.0000), (1, 5, 4.1231), (1, 6, 4.2426), \\\n",
    "             (1, 7, 2.2361), (2, 3, 2.2361), (2, 4, 2.2361), (2, 5, 4.4721), \\\n",
    "             (2, 6, 5.0000), (2, 7, 3.1623), (3, 4, 2.0000), (3, 5, 3.6056), \\\n",
    "             (3, 6, 5.0990), (3, 7, 4.1231), (4, 5, 2.2361), (4, 6, 3.1623), \\\n",
    "             (4, 7, 2.2361), (5, 6, 2.2361), (5, 7, 3.1623), (6, 7, 2.2361)]\n",
    "\n",
    "# Initialize fitness function object using dist_list\n",
    "fitness_dists = mlrose.TravellingSales(distances = dist_list)"
   ]
  },
  {
   "cell_type": "markdown",
   "id": "invalid-luxembourg",
   "metadata": {},
   "source": [
    "If both a list of coordinates and a list of distances are specified in initializing the fitness function object, then the distance list will be ignored.\n",
    "\n",
    "## Define an Optimization Problem Object\n",
    "\n",
    "As mentioned previously, the most efficient approach to solving a TSP in mlrose is to define the optimization problem object using the `TSPOpt()` optimization problem class.\n",
    "\n",
    "If a fitness function has already been manually defined, as demonstrated in the previous step, then the only additional information required to initialize a `TSPOpt()` object are the length of the problem (i.e. the number of cities to be visited on the tour) and whether our problem is a maximization or a minimization problem.\n",
    "\n",
    "In our example, we want to solve a minimization problem of length 8. If we use the `fitness_coords` fitness function defined above, we can define an optimization problem object as follows:"
   ]
  },
  {
   "cell_type": "code",
   "execution_count": 7,
   "id": "leading-exchange",
   "metadata": {},
   "outputs": [],
   "source": [
    "problem_fit = mlrose.TSPOpt(length = 8, fitness_fn = fitness_coords,\n",
    "                            maximize=False)"
   ]
  },
  {
   "cell_type": "markdown",
   "id": "speaking-geometry",
   "metadata": {},
   "source": [
    "Alternatively, if we had not previously defined a fitness function (and we wish to use the `TravellingSales()` class to define the fitness function), then this can be done as part of the optimization problem object initialization step by specifying either a list of coordinates or a list of distances, instead of a fitness function object, similar to what was done when manually initializing the fitness function object.\n",
    "\n",
    "In the case of our example, if we choose to specify a list of coordinates, in place of a fitness function object, we can initialize our optimization problem object as:"
   ]
  },
  {
   "cell_type": "code",
   "execution_count": 9,
   "id": "innocent-knife",
   "metadata": {},
   "outputs": [],
   "source": [
    "coords_list = [(1, 1), (4, 2), (5, 2), (6, 4), (4, 4), (3, 6), \n",
    "               (1, 5), (2, 3)]\n",
    "\n",
    "problem_no_fit = mlrose.TSPOpt(length = 8, coords = coords_list,\n",
    "                               maximize=False)"
   ]
  },
  {
   "cell_type": "markdown",
   "id": "unlimited-exposure",
   "metadata": {},
   "source": [
    "As with manually defining the fitness function object, if both a list of coordinates and a list of distances are specified in initializing the optimization problem object, then the distance list will be ignored. Furthermore, if a fitness function object is specified in addition to a list of coordinates and/or a list of distances, then the list of coordinates/distances will be ignored.\n",
    "\n",
    "## Select and Run a Randomized Optimization Algorithm\n",
    "\n",
    "Once the optimization object is defined, all that is left to do is to select a randomized optimization algorithm and use it to solve our problem.\n",
    "\n",
    "This time, suppose we wish to use a genetic algorithm with the default parameter settings of a population size (`pop_size`) of 200, a mutation probability (`mutation_prob`) of 0.1, a maximum of 10 attempts per step (`max_attempts`) and no limit on the maximum total number of iteration of the algorithm (`max_iters`)."
   ]
  },
  {
   "cell_type": "code",
   "execution_count": 10,
   "id": "moving-falls",
   "metadata": {},
   "outputs": [
    {
     "name": "stdout",
     "output_type": "stream",
     "text": [
      "The best state found is:  [1 3 4 5 6 7 0 2]\n",
      "The fitness at the best state is:  18.89580466036301\n"
     ]
    }
   ],
   "source": [
    "# Solve problem using the genetic algorithm\n",
    "best_state, best_fitness = mlrose.genetic_alg(problem_fit, random_state = 2)\n",
    "\n",
    "print('The best state found is: ', best_state)\n",
    "\n",
    "print('The fitness at the best state is: ', best_fitness)"
   ]
  },
  {
   "cell_type": "markdown",
   "id": "worst-german",
   "metadata": {},
   "source": [
    "![](https://miro.medium.com/max/517/1*7IYXUBmFZ9kSuIAuIJBJkQ.jpeg)"
   ]
  },
  {
   "cell_type": "markdown",
   "id": "aboriginal-enemy",
   "metadata": {},
   "source": [
    "Increasing the maximum number of attempts per step to 100 and increasing the mutation probability to 0.2, yields a tour with a total length of 17.343 units."
   ]
  },
  {
   "cell_type": "code",
   "execution_count": 11,
   "id": "meaningful-floating",
   "metadata": {},
   "outputs": [
    {
     "name": "stdout",
     "output_type": "stream",
     "text": [
      "The best state found is:  [7 6 5 4 3 2 1 0]\n",
      "The fitness at the best state is:  17.34261754766733\n"
     ]
    }
   ],
   "source": [
    "# Solve problem using the genetic algorithm\n",
    "best_state, best_fitness = mlrose.genetic_alg(problem_fit, mutation_prob = 0.2, \n",
    "\t\t\t\t\t      max_attempts = 100, random_state = 2)\n",
    "\n",
    "print('The best state found is: ', best_state)\n",
    "\n",
    "print('The fitness at the best state is: ', best_fitness)"
   ]
  },
  {
   "cell_type": "markdown",
   "id": "infrared-encounter",
   "metadata": {},
   "source": [
    "![](https://miro.medium.com/max/523/1*1yV8E5YsvgaIeIQWpM96Iw.jpeg)"
   ]
  },
  {
   "cell_type": "markdown",
   "id": "rational-cancellation",
   "metadata": {},
   "source": [
    "But wait, what is a Genetic Algorithm?\n",
    "Genetic Algorithm Optimization techniques are the techniques used to discover the best solution out of all the possible solutions available under the constraints present. The genetic algorithm is one such optimization algorithm built based on the natural evolutionary process of our nature.\n",
    "\n",
    "![](https://cdn.educba.com/academy/wp-content/uploads/2019/09/What-is-Genetic-Algorithm.png)"
   ]
  },
  {
   "cell_type": "markdown",
   "id": "steady-manual",
   "metadata": {},
   "source": [
    "# 2. Brute-Force (Dijkstra)\n",
    "https://benalexkeen.com/implementing-djikstras-shortest-path-algorithm-with-python/ \\\n",
    "Djikstra’s algorithm is a path-finding algorithm, like those used in routing and navigation.\n",
    "\n",
    "We will be using it to find the shortest path between two nodes in a graph.\n",
    "\n",
    "It fans away from the starting node by visiting the next node of the lowest weight and continues to do so until the next node of the lowest weight is the end node.\n",
    "\n",
    "We’ll go work through with an example, let’s say we want to get from X to Y in the graph below with the smallest weight possible. The weights in this example are given by the numbers on the edges between nodes.\n",
    "\n",
    "Here is what our graph looks like: \\\n",
    "![](http://benalexkeen.com/wp-content/uploads/2017/01/Dijkstra.png) \n",
    "\n",
    "We’ll start by constructing this graph in python:"
   ]
  },
  {
   "cell_type": "code",
   "execution_count": 28,
   "id": "protective-radar",
   "metadata": {},
   "outputs": [],
   "source": [
    "class Graph():\n",
    "    def __init__(self):\n",
    "        \"\"\"\n",
    "        self.edges is a dict of all possible next nodes\n",
    "        e.g. {'X': ['A', 'B', 'C', 'E'], ...}\n",
    "        self.weights has all the weights between two nodes,\n",
    "        with the two nodes as a tuple as the key\n",
    "        e.g. {('X', 'A'): 7, ('X', 'B'): 2, ...}\n",
    "        \"\"\"\n",
    "        self.edges = defaultdict(list)\n",
    "        self.weights = {}\n",
    "    \n",
    "    def add_edge(self, from_node, to_node, weight):\n",
    "        # Note: assumes edges are bi-directional\n",
    "        self.edges[from_node].append(to_node)\n",
    "        self.edges[to_node].append(from_node)\n",
    "        self.weights[(from_node, to_node)] = weight\n",
    "        self.weights[(to_node, from_node)] = weight"
   ]
  },
  {
   "cell_type": "code",
   "execution_count": 31,
   "id": "matched-affiliate",
   "metadata": {},
   "outputs": [],
   "source": [
    "graph = Graph()"
   ]
  },
  {
   "cell_type": "code",
   "execution_count": 32,
   "id": "pressed-outline",
   "metadata": {},
   "outputs": [],
   "source": [
    "#Define Edges and Add to Graph\n",
    "edges = [\n",
    "    ('X', 'A', 7),\n",
    "    ('X', 'B', 2),\n",
    "    ('X', 'C', 3),\n",
    "    ('X', 'E', 4),\n",
    "    ('A', 'B', 3),\n",
    "    ('A', 'D', 4),\n",
    "    ('B', 'D', 4),\n",
    "    ('B', 'H', 5),\n",
    "    ('C', 'L', 2),\n",
    "    ('D', 'F', 1),\n",
    "    ('F', 'H', 3),\n",
    "    ('G', 'H', 2),\n",
    "    ('G', 'Y', 2),\n",
    "    ('I', 'J', 6),\n",
    "    ('I', 'K', 4),\n",
    "    ('I', 'L', 4),\n",
    "    ('J', 'L', 1),\n",
    "    ('K', 'Y', 5),\n",
    "]\n",
    "\n",
    "for edge in edges:\n",
    "    graph.add_edge(*edge)"
   ]
  },
  {
   "cell_type": "markdown",
   "id": "upset-arbitration",
   "metadata": {},
   "source": [
    "Now we need to implement our algorithm.\n",
    "\n",
    "At our starting node (X), we have the following choice:\n",
    "\n",
    "- Visit A next at a cost of 7\n",
    "- Visit B next at a cost of 2\n",
    "- Visit C next at a cost of 3\n",
    "- Visit E next at a cost of 4\n",
    "\n",
    "We choose the lowest cost option, to visit node B at a cost of 2.\n",
    "We then have the following options:\n",
    "\n",
    "- Visit A from X at a cost of 7\n",
    "- Visit A from B at a cost of (2 + 3) = 5\n",
    "- Visit D from B at a cost of (2 + 4) = 6\n",
    "- Visit H from B at a cost of (2 + 5) = 7\n",
    "- Visit C from X at a cost of 3\n",
    "- Visit E from X at a cost of 4\n",
    "\n",
    "The next lowest cost item is visiting C from X, so we try that and then we are left with the above options, as well as:\n",
    "\n",
    "- Visit L from C at a cost of (3 + 2) = 5\n",
    "\n",
    "Next we would visit E from X as the next lowest cost is 4.\n",
    "\n",
    "For each destination node that we visit, we note the possible next destinations and the total weight to visit that destination. If a destination is one we have seen before and the weight to visit is lower than it was previously, this new weight will take its place. For example\n",
    "\n",
    "- Visiting A from X is a cost of 7\n",
    "- But visiting A from X via B is a cost of 5\n",
    "- Therefore we note that the shortest route to X is via B\n",
    "\n",
    "We only need to keep a note of the previous destination node and the total weight to get there.\n",
    "\n",
    "We continue evaluating until the destination node weight is the lowest total weight of all possible options.\n",
    "\n",
    "In this trivial case it is easy to work out that the shortest path will be:\n",
    "$X -> B -> H -> G -> Y$\n",
    "\n",
    "For a total weight of 11.\n",
    "\n",
    "In this case, we will end up with a note of:\n",
    "\n",
    "- The shortest path to Y being via G at a weight of 11\n",
    "- The shortest path to G is via H at a weight of 9\n",
    "- The shortest path to H is via B at weight of 7\n",
    "- The shortest path to B is directly from X at weight of 2\n",
    "\n",
    "And we can work backwards through this path to get all the nodes on the shortest path from X to Y.\n",
    "\n",
    "Once we have reached our destination, we continue searching until all possible paths are greater than 11; at that point we are certain that the shortest path is 11."
   ]
  },
  {
   "cell_type": "code",
   "execution_count": 33,
   "id": "pharmaceutical-benjamin",
   "metadata": {},
   "outputs": [],
   "source": [
    "def dijsktra(graph, initial, end):\n",
    "    # shortest paths is a dict of nodes\n",
    "    # whose value is a tuple of (previous node, weight)\n",
    "    shortest_paths = {initial: (None, 0)}\n",
    "    current_node = initial\n",
    "    visited = set()\n",
    "    \n",
    "    while current_node != end:\n",
    "        visited.add(current_node)\n",
    "        destinations = graph.edges[current_node]\n",
    "        weight_to_current_node = shortest_paths[current_node][1]\n",
    "\n",
    "        for next_node in destinations:\n",
    "            weight = graph.weights[(current_node, next_node)] + weight_to_current_node\n",
    "            if next_node not in shortest_paths:\n",
    "                shortest_paths[next_node] = (current_node, weight)\n",
    "            else:\n",
    "                current_shortest_weight = shortest_paths[next_node][1]\n",
    "                if current_shortest_weight > weight:\n",
    "                    shortest_paths[next_node] = (current_node, weight)\n",
    "        \n",
    "        next_destinations = {node: shortest_paths[node] for node in shortest_paths if node not in visited}\n",
    "        if not next_destinations:\n",
    "            return \"Route Not Possible\"\n",
    "        # next node is the destination with the lowest weight\n",
    "        current_node = min(next_destinations, key=lambda k: next_destinations[k][1])\n",
    "    \n",
    "    # Work back through destinations in shortest path\n",
    "    path = []\n",
    "    while current_node is not None:\n",
    "        path.append(current_node)\n",
    "        next_node = shortest_paths[current_node][0]\n",
    "        current_node = next_node\n",
    "    # Reverse path\n",
    "    path = path[::-1]\n",
    "    return path"
   ]
  },
  {
   "cell_type": "code",
   "execution_count": 34,
   "id": "exotic-batman",
   "metadata": {},
   "outputs": [
    {
     "data": {
      "text/plain": [
       "['X', 'B', 'H', 'G', 'Y']"
      ]
     },
     "execution_count": 34,
     "metadata": {},
     "output_type": "execute_result"
    }
   ],
   "source": [
    "dijsktra(graph, 'X', 'Y')"
   ]
  },
  {
   "cell_type": "markdown",
   "id": "liberal-alignment",
   "metadata": {},
   "source": [
    "Here is what our graph looks like: \\\n",
    "![](http://benalexkeen.com/wp-content/uploads/2017/01/Dijkstra.png) "
   ]
  },
  {
   "cell_type": "markdown",
   "id": "urban-capitol",
   "metadata": {},
   "source": [
    "# 3. Google OR Tools\n",
    "https://developers.google.com/optimization/routing/tsp \\\n",
    "\n",
    "![](https://developers.google.com/optimization/images/routing/tsp_map.png)"
   ]
  },
  {
   "cell_type": "code",
   "execution_count": 35,
   "id": "touched-sphere",
   "metadata": {},
   "outputs": [],
   "source": [
    "def create_data_model():\n",
    "    \"\"\"Stores the data for the problem.\"\"\"\n",
    "    data = {}\n",
    "    data['distance_matrix'] = [\n",
    "        [0, 2451, 713, 1018, 1631, 1374, 2408, 213, 2571, 875, 1420, 2145, 1972],\n",
    "        [2451, 0, 1745, 1524, 831, 1240, 959, 2596, 403, 1589, 1374, 357, 579],\n",
    "        [713, 1745, 0, 355, 920, 803, 1737, 851, 1858, 262, 940, 1453, 1260],\n",
    "        [1018, 1524, 355, 0, 700, 862, 1395, 1123, 1584, 466, 1056, 1280, 987],\n",
    "        [1631, 831, 920, 700, 0, 663, 1021, 1769, 949, 796, 879, 586, 371],\n",
    "        [1374, 1240, 803, 862, 663, 0, 1681, 1551, 1765, 547, 225, 887, 999],\n",
    "        [2408, 959, 1737, 1395, 1021, 1681, 0, 2493, 678, 1724, 1891, 1114, 701],\n",
    "        [213, 2596, 851, 1123, 1769, 1551, 2493, 0, 2699, 1038, 1605, 2300, 2099],\n",
    "        [2571, 403, 1858, 1584, 949, 1765, 678, 2699, 0, 1744, 1645, 653, 600],\n",
    "        [875, 1589, 262, 466, 796, 547, 1724, 1038, 1744, 0, 679, 1272, 1162],\n",
    "        [1420, 1374, 940, 1056, 879, 225, 1891, 1605, 1645, 679, 0, 1017, 1200],\n",
    "        [2145, 357, 1453, 1280, 586, 887, 1114, 2300, 653, 1272, 1017, 0, 504],\n",
    "        [1972, 579, 1260, 987, 371, 999, 701, 2099, 600, 1162, 1200, 504, 0],\n",
    "    ]  # yapf: disable\n",
    "    data['num_vehicles'] = 1\n",
    "    data['depot'] = 0\n",
    "    return data"
   ]
  },
  {
   "cell_type": "markdown",
   "id": "studied-nicaragua",
   "metadata": {},
   "source": [
    "The distance matrix is an array whose i, j entry is the distance from location i to location j in miles, where the array indices correspond to the locations in the following order:\n",
    "\n",
    "0. New York - 1. Los Angeles - 2. Chicago - 3. Minneapolis - 4. Denver - 5. Dallas - 6. Seattle - 7. Boston - 8. San Francisco - 9. St. Louis - 10. Houston - 11. Phoenix - 12. Salt Lake City\n",
    "\n",
    "Note: The order of the locations in the distance matrix is arbitrary, and is unrelated to the order of locations in any solution to the TSP.\n",
    "\n",
    "The data also includes:\n",
    "\n",
    "- The number of vehicles in the problem, which is 1 because this is a TSP. (For a vehicle routing problem (VRP), the number of vehicles can be greater than 1.)\n",
    "- The depot: the start and end location for the route. In this case, the depot is 0, which corresponds to New York.\n",
    "\n",
    "Note: Since the routing solver does all computations with integers, the distance callback must return an integer distance for any two locations. If any of the entries of `data['distance_matrix']` are not integers, you need to round either the matrix entries, or the return values of the callback, to integers. See [Scaling the distance matrix](https://developers.google.com/optimization/routing/tsp#scaling) for an example that shows how to avoid problems caused by rounding error.\n"
   ]
  },
  {
   "cell_type": "markdown",
   "id": "figured-carol",
   "metadata": {},
   "source": [
    "## Other ways to create the distance matrix\n",
    "\n",
    "In this example, the distance matrix is explicitly defined in the program. It's also possible to use a function to calculate distances between locations: for example, the Euclidean formula for the distance between points in the plane. However, it's still more efficient to pre-compute all the distances between locations and store them in a matrix, rather than compute them at run time. See [Example: drilling a circuit board](https://developers.google.com/optimization/routing/tsp#circuit_board) for an example that creates the distance matrix this way.\n",
    "\n",
    "Another alternative is to use the [Google Maps Distance Matrix API](https://developers.google.com/optimization/routing/vrp#distance_matrix_api) to dynamically create a distance (or travel time) matrix for a routing problem.\n",
    "Create the routing model\n",
    "\n",
    "The following code in the main section of the programs creates the index manager (manager) and the routing model (routing). The method `manager.IndexToNode` converts the solver's internal indices (which you can safely ignore) to the numbers for locations. Location numbers correspond to the indices for the distance matrix."
   ]
  },
  {
   "cell_type": "code",
   "execution_count": 39,
   "id": "productive-mattress",
   "metadata": {},
   "outputs": [],
   "source": [
    "data = create_data_model()\n",
    "manager = pywrapcp.RoutingIndexManager(len(data['distance_matrix']),\n",
    "                                       data['num_vehicles'], data['depot'])\n",
    "routing = pywrapcp.RoutingModel(manager)"
   ]
  },
  {
   "cell_type": "markdown",
   "id": "agricultural-battle",
   "metadata": {},
   "source": [
    "The inputs to `RoutingIndexManager` are:\n",
    "\n",
    "- The number of rows of the distance matrix, which is the number of locations (including the depot).\n",
    "- The number of vehicles in the problem.\n",
    "- The node corresponding to the depot.\n",
    "\n",
    "### Create the distance callback\n",
    "\n",
    "To use the routing solver, you need to create a distance (or transit) callback: a function that takes any pair of locations and returns the distance between them. The easiest way to do this is using the distance matrix.\n",
    "\n",
    "The following function creates the callback and registers it with the solver as `transit_callback_index`."
   ]
  },
  {
   "cell_type": "code",
   "execution_count": 40,
   "id": "determined-insert",
   "metadata": {},
   "outputs": [],
   "source": [
    "def distance_callback(from_index, to_index):\n",
    "    \"\"\"Returns the distance between the two nodes.\"\"\"\n",
    "    # Convert from routing variable Index to distance matrix NodeIndex.\n",
    "    from_node = manager.IndexToNode(from_index)\n",
    "    to_node = manager.IndexToNode(to_index)\n",
    "    return data['distance_matrix'][from_node][to_node]\n",
    "\n",
    "transit_callback_index = routing.RegisterTransitCallback(distance_callback)"
   ]
  },
  {
   "cell_type": "markdown",
   "id": "round-candle",
   "metadata": {},
   "source": [
    "The callback accepts two indices, `from_index` and `to_index`, and returns the corresponding entry of the distance matrix. \n",
    "\n",
    "### Set the cost of travel\n",
    "The arc cost evaluator tells the solver how to calculate the cost of travel between any two locations—in other words, the cost of the edge (or arc) joining them in the graph for the problem. The following code sets the arc cost evaluator.\n",
    "\n",
    "In this example, the arc cost evaluator is the `transit_callback_index`, which is the solver's internal reference to the distance callback. This means that the cost of travel between any two locations is just the distance between them. However, in general the costs can involve other factors as well.\n",
    "\n",
    "You can also define multiple arc cost evaluators that depend on which vehicle is traveling between locations, using the method `routing.SetArcCostEvaluatorOfVehicle()`. For example, if the vehicles have different speeds, you could define the cost of travel between locations to be the distance divided by the vehicle's speed—in other words, the travel time."
   ]
  },
  {
   "cell_type": "code",
   "execution_count": 41,
   "id": "threaded-needle",
   "metadata": {},
   "outputs": [],
   "source": [
    "routing.SetArcCostEvaluatorOfAllVehicles(transit_callback_index)"
   ]
  },
  {
   "cell_type": "markdown",
   "id": "hindu-terry",
   "metadata": {},
   "source": [
    "### Set search parameters\n",
    "The following code sets the default search parameters and a heuristic method for finding the first solution. The code sets the first solution strategy to `PATH_CHEAPEST_ARC`, which creates an initial route for the solver by repeatedly adding edges with the least weight that don't lead to a previously visited node (other than the depot)."
   ]
  },
  {
   "cell_type": "code",
   "execution_count": 44,
   "id": "polyphonic-staff",
   "metadata": {},
   "outputs": [],
   "source": [
    "search_parameters = pywrapcp.DefaultRoutingSearchParameters()\n",
    "search_parameters.first_solution_strategy = (\n",
    "    routing_enums_pb2.FirstSolutionStrategy.PATH_CHEAPEST_ARC)"
   ]
  },
  {
   "cell_type": "markdown",
   "id": "prescription-producer",
   "metadata": {},
   "source": [
    "### Add the solution printer\n",
    "The function that displays the solution returned by the solver is shown below. The function extracts the route from the solution and prints it to the console. The function displays the optimal route and its distance, which is given by `ObjectiveValue()`."
   ]
  },
  {
   "cell_type": "code",
   "execution_count": 45,
   "id": "hybrid-wayne",
   "metadata": {},
   "outputs": [],
   "source": [
    "def print_solution(manager, routing, solution):\n",
    "    \"\"\"Prints solution on console.\"\"\"\n",
    "    print('Objective: {} miles'.format(solution.ObjectiveValue()))\n",
    "    index = routing.Start(0)\n",
    "    plan_output = 'Route for vehicle 0:\\n'\n",
    "    route_distance = 0\n",
    "    while not routing.IsEnd(index):\n",
    "        plan_output += ' {} ->'.format(manager.IndexToNode(index))\n",
    "        previous_index = index\n",
    "        index = solution.Value(routing.NextVar(index))\n",
    "        route_distance += routing.GetArcCostForVehicle(previous_index, index, 0)\n",
    "    plan_output += ' {}\\n'.format(manager.IndexToNode(index))\n",
    "    print(plan_output)\n",
    "    plan_output += 'Route distance: {}miles\\n'.format(route_distance)"
   ]
  },
  {
   "cell_type": "markdown",
   "id": "apparent-zimbabwe",
   "metadata": {},
   "source": [
    "### Run the Program"
   ]
  },
  {
   "cell_type": "code",
   "execution_count": 46,
   "id": "linear-tunnel",
   "metadata": {},
   "outputs": [
    {
     "name": "stdout",
     "output_type": "stream",
     "text": [
      "Objective: 7293 miles\n",
      "Route for vehicle 0:\n",
      " 0 -> 7 -> 2 -> 3 -> 4 -> 12 -> 6 -> 8 -> 1 -> 11 -> 10 -> 5 -> 9 -> 0\n",
      "\n"
     ]
    }
   ],
   "source": [
    "solution = routing.SolveWithParameters(search_parameters)\n",
    "if solution:\n",
    "    print_solution(manager, routing, solution)"
   ]
  },
  {
   "cell_type": "markdown",
   "id": "starting-causing",
   "metadata": {},
   "source": [
    "### Save routes to a list or array\n",
    "\n",
    "As an alternative to printing the solution directly, you can save the route (or routes, for a VRP) to a list or array. This has the advantage of making the routes available in case you want to do something with them later. For example, you could run the program several times with different parameters and save the routes in the returned solutions to a file for comparison."
   ]
  },
  {
   "cell_type": "code",
   "execution_count": 48,
   "id": "linear-infection",
   "metadata": {},
   "outputs": [],
   "source": [
    "def get_routes(solution, routing, manager):\n",
    "    \"\"\"Get vehicle routes from a solution and store them in an array.\"\"\"\n",
    "    # Get vehicle routes and store them in a two dimensional array whose\n",
    "    # i,j entry is the jth location visited by vehicle i along its route.\n",
    "    routes = []\n",
    "    for route_nbr in range(routing.vehicles()):\n",
    "        index = routing.Start(route_nbr)\n",
    "        route = [manager.IndexToNode(index)]\n",
    "    while not routing.IsEnd(index):\n",
    "        index = solution.Value(routing.NextVar(index))\n",
    "        route.append(manager.IndexToNode(index))\n",
    "    routes.append(route)\n",
    "    return routes"
   ]
  },
  {
   "cell_type": "code",
   "execution_count": 49,
   "id": "graphic-deadline",
   "metadata": {},
   "outputs": [
    {
     "name": "stdout",
     "output_type": "stream",
     "text": [
      "Route 0 [0, 7, 2, 3, 4, 12, 6, 8, 1, 11, 10, 5, 9, 0]\n"
     ]
    }
   ],
   "source": [
    "routes = get_routes(solution, routing, manager)\n",
    "# Display the routes.\n",
    "for i, route in enumerate(routes):\n",
    "    print('Route', i, route)"
   ]
  },
  {
   "cell_type": "markdown",
   "id": "cosmetic-physics",
   "metadata": {},
   "source": [
    "## 2-D Example via OR Tools\n",
    "This example mimics what we did above, but now using 2-D data. Without a road network, though. This is an important distinction. \\\n",
    "This is what our data look like: \\\n",
    "![](circuit_graph.png)"
   ]
  },
  {
   "cell_type": "code",
   "execution_count": 51,
   "id": "infrared-heart",
   "metadata": {},
   "outputs": [],
   "source": [
    "def create_data_model():\n",
    "    \"\"\"Stores the data for the problem.\"\"\"\n",
    "    data = {}\n",
    "    # Locations in block units\n",
    "    data['locations'] = [\n",
    "        (288, 149), (288, 129), (270, 133), (256, 141), (256, 157), (246, 157),\n",
    "        (236, 169), (228, 169), (228, 161), (220, 169), (212, 169), (204, 169),\n",
    "        (196, 169), (188, 169), (196, 161), (188, 145), (172, 145), (164, 145),\n",
    "        (156, 145), (148, 145), (140, 145), (148, 169), (164, 169), (172, 169),\n",
    "        (156, 169), (140, 169), (132, 169), (124, 169), (116, 161), (104, 153),\n",
    "        (104, 161), (104, 169), (90, 165), (80, 157), (64, 157), (64, 165),\n",
    "        (56, 169), (56, 161), (56, 153), (56, 145), (56, 137), (56, 129),\n",
    "        (56, 121), (40, 121), (40, 129), (40, 137), (40, 145), (40, 153),\n",
    "        (40, 161), (40, 169), (32, 169), (32, 161), (32, 153), (32, 145),\n",
    "        (32, 137), (32, 129), (32, 121), (32, 113), (40, 113), (56, 113),\n",
    "        (56, 105), (48, 99), (40, 99), (32, 97), (32, 89), (24, 89),\n",
    "        (16, 97), (16, 109), (8, 109), (8, 97), (8, 89), (8, 81),\n",
    "        (8, 73), (8, 65), (8, 57), (16, 57), (8, 49), (8, 41),\n",
    "        (24, 45), (32, 41), (32, 49), (32, 57), (32, 65), (32, 73),\n",
    "        (32, 81), (40, 83), (40, 73), (40, 63), (40, 51), (44, 43),\n",
    "        (44, 35), (44, 27), (32, 25), (24, 25), (16, 25), (16, 17),\n",
    "        (24, 17), (32, 17), (44, 11), (56, 9), (56, 17), (56, 25),\n",
    "        (56, 33), (56, 41), (64, 41), (72, 41), (72, 49), (56, 49),\n",
    "        (48, 51), (56, 57), (56, 65), (48, 63), (48, 73), (56, 73),\n",
    "        (56, 81), (48, 83), (56, 89), (56, 97), (104, 97), (104, 105),\n",
    "        (104, 113), (104, 121), (104, 129), (104, 137), (104, 145), (116, 145),\n",
    "        (124, 145), (132, 145), (132, 137), (140, 137), (148, 137), (156, 137),\n",
    "        (164, 137), (172, 125), (172, 117), (172, 109), (172, 101), (172, 93),\n",
    "        (172, 85), (180, 85), (180, 77), (180, 69), (180, 61), (180, 53),\n",
    "        (172, 53), (172, 61), (172, 69), (172, 77), (164, 81), (148, 85),\n",
    "        (124, 85), (124, 93), (124, 109), (124, 125), (124, 117), (124, 101),\n",
    "        (104, 89), (104, 81), (104, 73), (104, 65), (104, 49), (104, 41),\n",
    "        (104, 33), (104, 25), (104, 17), (92, 9), (80, 9), (72, 9),\n",
    "        (64, 21), (72, 25), (80, 25), (80, 25), (80, 41), (88, 49),\n",
    "        (104, 57), (124, 69), (124, 77), (132, 81), (140, 65), (132, 61),\n",
    "        (124, 61), (124, 53), (124, 45), (124, 37), (124, 29), (132, 21),\n",
    "        (124, 21), (120, 9), (128, 9), (136, 9), (148, 9), (162, 9),\n",
    "        (156, 25), (172, 21), (180, 21), (180, 29), (172, 29), (172, 37),\n",
    "        (172, 45), (180, 45), (180, 37), (188, 41), (196, 49), (204, 57),\n",
    "        (212, 65), (220, 73), (228, 69), (228, 77), (236, 77), (236, 69),\n",
    "        (236, 61), (228, 61), (228, 53), (236, 53), (236, 45), (228, 45),\n",
    "        (228, 37), (236, 37), (236, 29), (228, 29), (228, 21), (236, 21),\n",
    "        (252, 21), (260, 29), (260, 37), (260, 45), (260, 53), (260, 61),\n",
    "        (260, 69), (260, 77), (276, 77), (276, 69), (276, 61), (276, 53),\n",
    "        (284, 53), (284, 61), (284, 69), (284, 77), (284, 85), (284, 93),\n",
    "        (284, 101), (288, 109), (280, 109), (276, 101), (276, 93), (276, 85),\n",
    "        (268, 97), (260, 109), (252, 101), (260, 93), (260, 85), (236, 85),\n",
    "        (228, 85), (228, 93), (236, 93), (236, 101), (228, 101), (228, 109),\n",
    "        (228, 117), (228, 125), (220, 125), (212, 117), (204, 109), (196, 101),\n",
    "        (188, 93), (180, 93), (180, 101), (180, 109), (180, 117), (180, 125),\n",
    "        (196, 145), (204, 145), (212, 145), (220, 145), (228, 145), (236, 145),\n",
    "        (246, 141), (252, 125), (260, 129), (280, 133)\n",
    "    ]  # yapf: disable\n",
    "    data['num_vehicles'] = 1\n",
    "    data['depot'] = 0\n",
    "    return data\n",
    "\n",
    "\n",
    "def compute_euclidean_distance_matrix(locations):\n",
    "    \"\"\"Creates callback to return distance between points.\"\"\"\n",
    "    distances = {}\n",
    "    for from_counter, from_node in enumerate(locations):\n",
    "        distances[from_counter] = {}\n",
    "        for to_counter, to_node in enumerate(locations):\n",
    "            if from_counter == to_counter:\n",
    "                distances[from_counter][to_counter] = 0\n",
    "            else:\n",
    "                # Euclidean distance\n",
    "                distances[from_counter][to_counter] = (int(\n",
    "                    math.hypot((from_node[0] - to_node[0]),\n",
    "                               (from_node[1] - to_node[1]))))\n",
    "    return distances\n",
    "\n",
    "\n",
    "def print_solution(manager, routing, solution):\n",
    "    \"\"\"Prints solution on console.\"\"\"\n",
    "    print('Objective: {}'.format(solution.ObjectiveValue()))\n",
    "    index = routing.Start(0)\n",
    "    plan_output = 'Route:\\n'\n",
    "    route_distance = 0\n",
    "    while not routing.IsEnd(index):\n",
    "        plan_output += ' {} ->'.format(manager.IndexToNode(index))\n",
    "        previous_index = index\n",
    "        index = solution.Value(routing.NextVar(index))\n",
    "        route_distance += routing.GetArcCostForVehicle(previous_index, index, 0)\n",
    "    plan_output += ' {}\\n'.format(manager.IndexToNode(index))\n",
    "    print(plan_output)\n",
    "    plan_output += 'Objective: {}m\\n'.format(route_distance)\n",
    "\n",
    "\n",
    "def main():\n",
    "    \"\"\"Entry point of the program.\"\"\"\n",
    "    # Instantiate the data problem.\n",
    "    data = create_data_model()\n",
    "\n",
    "    # Create the routing index manager.\n",
    "    manager = pywrapcp.RoutingIndexManager(len(data['locations']),\n",
    "                                           data['num_vehicles'], data['depot'])\n",
    "\n",
    "    # Create Routing Model.\n",
    "    routing = pywrapcp.RoutingModel(manager)\n",
    "\n",
    "    distance_matrix = compute_euclidean_distance_matrix(data['locations'])\n",
    "\n",
    "    def distance_callback(from_index, to_index):\n",
    "        \"\"\"Returns the distance between the two nodes.\"\"\"\n",
    "        # Convert from routing variable Index to distance matrix NodeIndex.\n",
    "        from_node = manager.IndexToNode(from_index)\n",
    "        to_node = manager.IndexToNode(to_index)\n",
    "        return distance_matrix[from_node][to_node]\n",
    "\n",
    "    transit_callback_index = routing.RegisterTransitCallback(distance_callback)\n",
    "\n",
    "    # Define cost of each arc.\n",
    "    routing.SetArcCostEvaluatorOfAllVehicles(transit_callback_index)\n",
    "\n",
    "    # Setting first solution heuristic.\n",
    "    search_parameters = pywrapcp.DefaultRoutingSearchParameters()\n",
    "    search_parameters.first_solution_strategy = (\n",
    "        routing_enums_pb2.FirstSolutionStrategy.PATH_CHEAPEST_ARC)\n",
    "\n",
    "    # Solve the problem.\n",
    "    solution = routing.SolveWithParameters(search_parameters)\n",
    "\n",
    "    # Print solution on console.\n",
    "    if solution:\n",
    "        print_solution(manager, routing, solution)"
   ]
  },
  {
   "cell_type": "code",
   "execution_count": 56,
   "id": "metric-thing",
   "metadata": {},
   "outputs": [
    {
     "name": "stdout",
     "output_type": "stream",
     "text": [
      "Objective: 2790\n",
      "Route:\n",
      " 0 -> 1 -> 279 -> 2 -> 278 -> 277 -> 248 -> 247 -> 243 -> 242 -> 241 -> 240 -> 239 -> 238 -> 245 -> 244 -> 246 -> 249 -> 250 -> 229 -> 228 -> 231 -> 230 -> 237 -> 236 -> 235 -> 234 -> 233 -> 232 -> 227 -> 226 -> 225 -> 224 -> 223 -> 222 -> 218 -> 221 -> 220 -> 219 -> 202 -> 203 -> 204 -> 205 -> 207 -> 206 -> 211 -> 212 -> 215 -> 216 -> 217 -> 214 -> 213 -> 210 -> 209 -> 208 -> 251 -> 254 -> 255 -> 257 -> 256 -> 253 -> 252 -> 139 -> 140 -> 141 -> 142 -> 143 -> 199 -> 201 -> 200 -> 195 -> 194 -> 193 -> 191 -> 190 -> 189 -> 188 -> 187 -> 163 -> 164 -> 165 -> 166 -> 167 -> 168 -> 169 -> 171 -> 170 -> 172 -> 105 -> 106 -> 104 -> 103 -> 107 -> 109 -> 110 -> 113 -> 114 -> 116 -> 117 -> 61 -> 62 -> 63 -> 65 -> 64 -> 84 -> 85 -> 115 -> 112 -> 86 -> 83 -> 82 -> 87 -> 111 -> 108 -> 89 -> 90 -> 91 -> 102 -> 101 -> 100 -> 99 -> 98 -> 97 -> 96 -> 95 -> 94 -> 93 -> 92 -> 79 -> 88 -> 81 -> 80 -> 78 -> 77 -> 76 -> 74 -> 75 -> 73 -> 72 -> 71 -> 70 -> 69 -> 66 -> 68 -> 67 -> 57 -> 56 -> 55 -> 54 -> 53 -> 52 -> 51 -> 50 -> 49 -> 48 -> 47 -> 46 -> 45 -> 44 -> 43 -> 58 -> 60 -> 59 -> 42 -> 41 -> 40 -> 39 -> 38 -> 37 -> 36 -> 35 -> 34 -> 33 -> 32 -> 31 -> 30 -> 29 -> 124 -> 123 -> 122 -> 121 -> 120 -> 119 -> 118 -> 156 -> 157 -> 158 -> 173 -> 162 -> 161 -> 160 -> 174 -> 159 -> 150 -> 151 -> 155 -> 152 -> 154 -> 153 -> 128 -> 129 -> 130 -> 131 -> 18 -> 19 -> 20 -> 127 -> 126 -> 125 -> 28 -> 27 -> 26 -> 25 -> 21 -> 24 -> 22 -> 23 -> 13 -> 12 -> 14 -> 11 -> 10 -> 9 -> 7 -> 8 -> 6 -> 5 -> 275 -> 274 -> 273 -> 272 -> 271 -> 270 -> 15 -> 16 -> 17 -> 132 -> 149 -> 177 -> 176 -> 175 -> 178 -> 179 -> 180 -> 181 -> 182 -> 183 -> 184 -> 186 -> 185 -> 192 -> 196 -> 197 -> 198 -> 144 -> 145 -> 146 -> 147 -> 148 -> 138 -> 137 -> 136 -> 135 -> 134 -> 133 -> 269 -> 268 -> 267 -> 266 -> 265 -> 264 -> 263 -> 262 -> 261 -> 260 -> 258 -> 259 -> 276 -> 3 -> 4 -> 0\n",
      "\n"
     ]
    }
   ],
   "source": [
    "main()"
   ]
  }
 ],
 "metadata": {
  "kernelspec": {
   "display_name": "Python 3",
   "language": "python",
   "name": "python3"
  },
  "language_info": {
   "codemirror_mode": {
    "name": "ipython",
    "version": 3
   },
   "file_extension": ".py",
   "mimetype": "text/x-python",
   "name": "python",
   "nbconvert_exporter": "python",
   "pygments_lexer": "ipython3",
   "version": "3.7.9"
  }
 },
 "nbformat": 4,
 "nbformat_minor": 5
}
