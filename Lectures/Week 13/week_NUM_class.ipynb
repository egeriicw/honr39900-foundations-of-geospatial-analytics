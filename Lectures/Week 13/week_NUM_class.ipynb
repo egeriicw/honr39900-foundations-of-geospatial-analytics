{
 "cells": [
  {
   "cell_type": "markdown",
   "id": "diagnostic-course",
   "metadata": {},
   "source": [
    "# HONR 39900 Fall 2021: Foundations of Geospatial Analytics\n",
    "## Week INSERT Class Notebook\n",
    "## INSERT TOPICS\n",
    "\n",
    "### Justin A. Gould (gould29@purdue.edu)"
   ]
  },
  {
   "cell_type": "markdown",
   "id": "liable-waste",
   "metadata": {},
   "source": [
    "# Required Packages"
   ]
  },
  {
   "cell_type": "code",
   "execution_count": null,
   "id": "complex-startup",
   "metadata": {},
   "outputs": [],
   "source": []
  },
  {
   "cell_type": "markdown",
   "id": "retained-solution",
   "metadata": {},
   "source": [
    "# INSERT SECTION"
   ]
  },
  {
   "cell_type": "code",
   "execution_count": null,
   "id": "large-aberdeen",
   "metadata": {},
   "outputs": [],
   "source": []
  }
 ],
 "metadata": {
  "kernelspec": {
   "display_name": "Python 3",
   "language": "python",
   "name": "python3"
  },
  "language_info": {
   "codemirror_mode": {
    "name": "ipython",
    "version": 3
   },
   "file_extension": ".py",
   "mimetype": "text/x-python",
   "name": "python",
   "nbconvert_exporter": "python",
   "pygments_lexer": "ipython3",
   "version": "3.7.9"
  }
 },
 "nbformat": 4,
 "nbformat_minor": 5
}