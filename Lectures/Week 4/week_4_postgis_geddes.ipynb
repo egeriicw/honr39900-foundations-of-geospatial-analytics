{
 "cells": [
  {
   "cell_type": "markdown",
   "source": [
    "# HONR 39900 Fall 2021: Foundations of Geospatial Analytics\n",
    "## Week 4 Class Notebook\n",
    "## Postgres on Geddes K8s\n",
    "\n",
    "### Justin A. Gould (gould29@purdue.edu)"
   ],
   "metadata": {}
  },
  {
   "cell_type": "markdown",
   "source": [
    "# Required Packages"
   ],
   "metadata": {}
  },
  {
   "cell_type": "code",
   "execution_count": 1,
   "source": [
    "import geopandas as gpd\n",
    "from sqlalchemy import create_engine, text\n",
    "from sqlalchemy_utils import create_database, database_exists, drop_database\n",
    "import pandas as pd\n",
    "from pandasql import *\n",
    "pysqldf = lambda q: sqldf(q, globals())"
   ],
   "outputs": [],
   "metadata": {}
  },
  {
   "cell_type": "markdown",
   "source": [
    "# Connect to Postgres\n",
    "## MUST BE CONNECTED TO THE `webvpn2.purdue.edu` VPN OR ON A PHYSICAL MACHINE ON THE PURDUE/RCAC NETWORK."
   ],
   "metadata": {}
  },
  {
   "cell_type": "code",
   "execution_count": 2,
   "source": [
    "#Variables\n",
    "db_type = \"postgres\"\n",
    "username = \"postgres\"\n",
    "password = \"N8ri54UU8C\"\n",
    "host = \"postgis.gould29-test.geddes.rcac.purdue.edu\"\n",
    "port = \"5432\"\n",
    "db_name = \"test12\" #\"gould29\"\n",
    "\n",
    "#Put it together\n",
    "engine = create_engine(f\"{db_type}://{username}:{password}@{host}:{port}/{db_name}\")"
   ],
   "outputs": [],
   "metadata": {}
  },
  {
   "cell_type": "markdown",
   "source": [
    "# Ensure Functionality with PostGIS\n",
    "## PostGIS must first be installed on **your** database (Purdue Alias via `CREATE DATABASE alias';`) via `CREATE EXTENSION postgis;`"
   ],
   "metadata": {}
  },
  {
   "cell_type": "raw",
   "source": [
    "%%bash\n",
    "cd ./ch11/data/\n",
    "psql -h postgis.gould29-test.geddes.rcac.purdue.edu -U postgres -p 5432 -d gould29 -f ch11_data.sql"
   ],
   "metadata": {}
  },
  {
   "cell_type": "code",
   "execution_count": 3,
   "source": [
    "sql = \"\"\"\n",
    "SELECT\n",
    "    city,\n",
    "    COUNT(city) AS num_records,\n",
    "    SUM(ST_NumGeometries(geom)) AS numpoly_before,\n",
    "    ST_NumGeometries(ST_Multi(ST_Union(geom))) AS num_poly_after,\n",
    "    ST_PointFromText('POINT(0 0)') AS dummy\n",
    "FROM\n",
    "    ch11.cities\n",
    "GROUP BY\n",
    "    city, dummy\n",
    "HAVING\n",
    "    COUNT(city) > 1;\n",
    "\"\"\"\n",
    "\n",
    "ex_11_1_1_2 = gpd.GeoDataFrame.from_postgis(sql=sql, con=engine, geom_col=\"dummy\") #Note the change in geom_col!"
   ],
   "outputs": [],
   "metadata": {}
  },
  {
   "cell_type": "code",
   "execution_count": 4,
   "source": [
    "ex_11_1_1_2"
   ],
   "outputs": [
    {
     "output_type": "execute_result",
     "data": {
      "text/plain": [
       "                  city  num_records  numpoly_before  num_poly_after  \\\n",
       "0              ALAMEDA            4               4               4   \n",
       "1    BELVEDERE TIBURON            2               2               2   \n",
       "2             BRISBANE            2               2               1   \n",
       "3            GREENBRAE            2               2               2   \n",
       "4             LARKSPUR            2               2               2   \n",
       "5         REDWOOD CITY            2               2               2   \n",
       "6        SAN FRANCISCO            7               7               6   \n",
       "7            SAN MATEO            2               2               2   \n",
       "8  SOUTH SAN FRANCISCO            2               2               2   \n",
       "9          SUISUN CITY            2               2               2   \n",
       "\n",
       "                     dummy  \n",
       "0  POINT (0.00000 0.00000)  \n",
       "1  POINT (0.00000 0.00000)  \n",
       "2  POINT (0.00000 0.00000)  \n",
       "3  POINT (0.00000 0.00000)  \n",
       "4  POINT (0.00000 0.00000)  \n",
       "5  POINT (0.00000 0.00000)  \n",
       "6  POINT (0.00000 0.00000)  \n",
       "7  POINT (0.00000 0.00000)  \n",
       "8  POINT (0.00000 0.00000)  \n",
       "9  POINT (0.00000 0.00000)  "
      ],
      "text/html": [
       "<div>\n",
       "<style scoped>\n",
       "    .dataframe tbody tr th:only-of-type {\n",
       "        vertical-align: middle;\n",
       "    }\n",
       "\n",
       "    .dataframe tbody tr th {\n",
       "        vertical-align: top;\n",
       "    }\n",
       "\n",
       "    .dataframe thead th {\n",
       "        text-align: right;\n",
       "    }\n",
       "</style>\n",
       "<table border=\"1\" class=\"dataframe\">\n",
       "  <thead>\n",
       "    <tr style=\"text-align: right;\">\n",
       "      <th></th>\n",
       "      <th>city</th>\n",
       "      <th>num_records</th>\n",
       "      <th>numpoly_before</th>\n",
       "      <th>num_poly_after</th>\n",
       "      <th>dummy</th>\n",
       "    </tr>\n",
       "  </thead>\n",
       "  <tbody>\n",
       "    <tr>\n",
       "      <th>0</th>\n",
       "      <td>ALAMEDA</td>\n",
       "      <td>4</td>\n",
       "      <td>4</td>\n",
       "      <td>4</td>\n",
       "      <td>POINT (0.00000 0.00000)</td>\n",
       "    </tr>\n",
       "    <tr>\n",
       "      <th>1</th>\n",
       "      <td>BELVEDERE TIBURON</td>\n",
       "      <td>2</td>\n",
       "      <td>2</td>\n",
       "      <td>2</td>\n",
       "      <td>POINT (0.00000 0.00000)</td>\n",
       "    </tr>\n",
       "    <tr>\n",
       "      <th>2</th>\n",
       "      <td>BRISBANE</td>\n",
       "      <td>2</td>\n",
       "      <td>2</td>\n",
       "      <td>1</td>\n",
       "      <td>POINT (0.00000 0.00000)</td>\n",
       "    </tr>\n",
       "    <tr>\n",
       "      <th>3</th>\n",
       "      <td>GREENBRAE</td>\n",
       "      <td>2</td>\n",
       "      <td>2</td>\n",
       "      <td>2</td>\n",
       "      <td>POINT (0.00000 0.00000)</td>\n",
       "    </tr>\n",
       "    <tr>\n",
       "      <th>4</th>\n",
       "      <td>LARKSPUR</td>\n",
       "      <td>2</td>\n",
       "      <td>2</td>\n",
       "      <td>2</td>\n",
       "      <td>POINT (0.00000 0.00000)</td>\n",
       "    </tr>\n",
       "    <tr>\n",
       "      <th>5</th>\n",
       "      <td>REDWOOD CITY</td>\n",
       "      <td>2</td>\n",
       "      <td>2</td>\n",
       "      <td>2</td>\n",
       "      <td>POINT (0.00000 0.00000)</td>\n",
       "    </tr>\n",
       "    <tr>\n",
       "      <th>6</th>\n",
       "      <td>SAN FRANCISCO</td>\n",
       "      <td>7</td>\n",
       "      <td>7</td>\n",
       "      <td>6</td>\n",
       "      <td>POINT (0.00000 0.00000)</td>\n",
       "    </tr>\n",
       "    <tr>\n",
       "      <th>7</th>\n",
       "      <td>SAN MATEO</td>\n",
       "      <td>2</td>\n",
       "      <td>2</td>\n",
       "      <td>2</td>\n",
       "      <td>POINT (0.00000 0.00000)</td>\n",
       "    </tr>\n",
       "    <tr>\n",
       "      <th>8</th>\n",
       "      <td>SOUTH SAN FRANCISCO</td>\n",
       "      <td>2</td>\n",
       "      <td>2</td>\n",
       "      <td>2</td>\n",
       "      <td>POINT (0.00000 0.00000)</td>\n",
       "    </tr>\n",
       "    <tr>\n",
       "      <th>9</th>\n",
       "      <td>SUISUN CITY</td>\n",
       "      <td>2</td>\n",
       "      <td>2</td>\n",
       "      <td>2</td>\n",
       "      <td>POINT (0.00000 0.00000)</td>\n",
       "    </tr>\n",
       "  </tbody>\n",
       "</table>\n",
       "</div>"
      ]
     },
     "metadata": {},
     "execution_count": 4
    }
   ],
   "metadata": {}
  },
  {
   "cell_type": "code",
   "execution_count": null,
   "source": [],
   "outputs": [],
   "metadata": {}
  }
 ],
 "metadata": {
  "interpreter": {
   "hash": "88a68a9f38143dfb9d5eac4ee67e18746d56bed0751413b223d8551ff6525c45"
  },
  "kernelspec": {
   "display_name": "Python 3",
   "language": "python",
   "name": "python3"
  },
  "language_info": {
   "codemirror_mode": {
    "name": "ipython",
    "version": 3
   },
   "file_extension": ".py",
   "mimetype": "text/x-python",
   "name": "python",
   "nbconvert_exporter": "python",
   "pygments_lexer": "ipython3",
   "version": "3.7.9"
  }
 },
 "nbformat": 4,
 "nbformat_minor": 5
}